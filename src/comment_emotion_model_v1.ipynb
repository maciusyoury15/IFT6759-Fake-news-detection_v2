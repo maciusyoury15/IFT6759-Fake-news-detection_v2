{
 "cells": [
  {
   "cell_type": "code",
   "execution_count": null,
   "metadata": {
    "colab": {
     "base_uri": "https://localhost:8080/"
    },
    "executionInfo": {
     "elapsed": 14886,
     "status": "ok",
     "timestamp": 1742943225032,
     "user": {
      "displayName": "Xin Yan",
      "userId": "08308894215731508440"
     },
     "user_tz": 240
    },
    "id": "04vV3AtZ9cXU",
    "outputId": "563d9b3b-80a7-4d75-bbf6-e721aeb5f312"
   },
   "outputs": [
    {
     "name": "stdout",
     "output_type": "stream",
     "text": [
      "Mounted at /content/gdrive\n"
     ]
    }
   ],
   "source": [
    "#@title Mount your Google Drive\n",
    "%matplotlib inline\n",
    "%load_ext autoreload\n",
    "%autoreload 2\n",
    "\n",
    "from google.colab import drive\n",
    "drive.mount('/content/gdrive')"
   ]
  },
  {
   "cell_type": "code",
   "execution_count": null,
   "metadata": {
    "colab": {
     "base_uri": "https://localhost:8080/"
    },
    "executionInfo": {
     "elapsed": 6395,
     "status": "ok",
     "timestamp": 1742943233188,
     "user": {
      "displayName": "Xin Yan",
      "userId": "08308894215731508440"
     },
     "user_tz": 240
    },
    "id": "lqAaUtNQ-ED6",
    "outputId": "b2cdf152-cfe9-4db5-edff-1846e64fb1c7"
   },
   "outputs": [
    {
     "name": "stderr",
     "output_type": "stream",
     "text": [
      "<ipython-input-2-81e0a356d7ed>:16: UserWarning: CUDA is not available.\n",
      "  warnings.warn('CUDA is not available.')\n"
     ]
    }
   ],
   "source": [
    "import sys\n",
    "import os\n",
    "import shutil\n",
    "import warnings\n",
    "\n",
    "folder = \"/content/gdrive/MyDrive/fakenews_data\"\n",
    "!ln -Ts \"$folder\" /content/news_data 2> /dev/null\n",
    "\n",
    "if '/content/news_data' not in sys.path:\n",
    "  sys.path.insert(0, '/content/news_data')\n",
    "\n",
    "# Check if CUDA is available\n",
    "import torch\n",
    "if not torch.cuda.is_available():\n",
    "  warnings.warn('CUDA is not available.')"
   ]
  },
  {
   "cell_type": "code",
   "execution_count": 3,
   "metadata": {
    "colab": {
     "base_uri": "https://localhost:8080/"
    },
    "executionInfo": {
     "elapsed": 142,
     "status": "ok",
     "timestamp": 1742943240998,
     "user": {
      "displayName": "Xin Yan",
      "userId": "08308894215731508440"
     },
     "user_tz": 240
    },
    "id": "A92IhpLI_9hU",
    "outputId": "266f5744-0375-4734-caa2-3b94cc862afe"
   },
   "outputs": [
    {
     "name": "stdout",
     "output_type": "stream",
     "text": [
      " all_comments.tsv\t     df_comments_sample_10k.tsv   glove.6B.50d.txt\n",
      " all_test_public.tsv\t     df_posts.tsv\t\t  multimodal_eval_20k.tsv\n",
      " all_train.tsv\t\t     df_sample_10k.tsv\t\t  multimodal_test_public.tsv\n",
      " all_validate.tsv\t    'glove (1).6B.100d.txt'\t  multimodal_train_80k.tsv\n",
      " com1_model_10k.weights.h5   glove.6B.100d.txt\t\t  multimodal_train.tsv\n",
      " com_model_10k.h5\t     glove.6B.200d.txt\t\t  multimodal_validate.tsv\n"
     ]
    }
   ],
   "source": [
    "!ls /content/news_data/"
   ]
  },
  {
   "cell_type": "markdown",
   "metadata": {
    "id": "XdFyzy7ARmxw"
   },
   "source": [
    "## 1. Install packages and Load data"
   ]
  },
  {
   "cell_type": "code",
   "execution_count": 4,
   "metadata": {
    "colab": {
     "base_uri": "https://localhost:8080/"
    },
    "executionInfo": {
     "elapsed": 41287,
     "status": "ok",
     "timestamp": 1742943287318,
     "user": {
      "displayName": "Xin Yan",
      "userId": "08308894215731508440"
     },
     "user_tz": 240
    },
    "id": "3mV-GSzaAIGv",
    "outputId": "425242ad-27c5-4895-c0b7-8529ceb42af7"
   },
   "outputs": [
    {
     "name": "stdout",
     "output_type": "stream",
     "text": [
      "Installing gdown...\n",
      "gdown installed successfully.\n",
      "Installing textblob...\n",
      "textblob installed successfully.\n",
      "Installing NRCLex==3.0.0...\n",
      "NRCLex==3.0.0 installed successfully.\n",
      "Installing autocorrect==1.1.0...\n",
      "autocorrect==1.1.0 installed successfully.\n",
      "Installing contractions...\n",
      "contractions installed successfully.\n",
      "Installing unidecode...\n",
      "unidecode installed successfully.\n",
      "Installing emoji...\n",
      "emoji installed successfully.\n",
      "Installing nltk...\n",
      "nltk installed successfully.\n",
      "Installing scikit-learn...\n",
      "scikit-learn installed successfully.\n",
      "Installing tensorflow...\n",
      "tensorflow installed successfully.\n"
     ]
    }
   ],
   "source": [
    "# Install packages\n",
    "import subprocess\n",
    "\n",
    "packages = [\n",
    "    \"gdown\",\n",
    "    \"textblob\",\n",
    "    \"NRCLex==3.0.0\",\n",
    "    \"autocorrect==1.1.0\",\n",
    "    \"contractions\",\n",
    "    \"unidecode\",\n",
    "    \"emoji\",\n",
    "    \"nltk\",\n",
    "    \"scikit-learn\",\n",
    "    \"tensorflow\"\n",
    "]\n",
    "\n",
    "subprocess.run(\"pip install --upgrade pip setuptools -q\", shell=True)\n",
    "\n",
    "for package in packages:\n",
    "    try:\n",
    "        print(f\"Installing {package}...\")\n",
    "        subprocess.run(f\"pip install -q {package}\", shell=True, check=True)\n",
    "        print(f\"{package} installed successfully.\")\n",
    "    except subprocess.CalledProcessError as e:\n",
    "        print(f\"Error installing {package}: {e}\")"
   ]
  },
  {
   "cell_type": "code",
   "execution_count": 5,
   "metadata": {
    "colab": {
     "base_uri": "https://localhost:8080/"
    },
    "executionInfo": {
     "elapsed": 9380,
     "status": "ok",
     "timestamp": 1742943300105,
     "user": {
      "displayName": "Xin Yan",
      "userId": "08308894215731508440"
     },
     "user_tz": 240
    },
    "id": "_k9RuO7yAILF",
    "outputId": "4d00e876-6504-4290-a0b0-057c79b1dc81"
   },
   "outputs": [
    {
     "name": "stderr",
     "output_type": "stream",
     "text": [
      "[nltk_data] Downloading package punkt to /root/nltk_data...\n",
      "[nltk_data]   Unzipping tokenizers/punkt.zip.\n",
      "[nltk_data] Downloading package stopwords to /root/nltk_data...\n",
      "[nltk_data]   Unzipping corpora/stopwords.zip.\n",
      "[nltk_data] Downloading package wordnet to /root/nltk_data...\n"
     ]
    },
    {
     "data": {
      "text/plain": [
       "True"
      ]
     },
     "execution_count": 5,
     "metadata": {},
     "output_type": "execute_result"
    }
   ],
   "source": [
    "import nltk\n",
    "nltk.download('punkt')\n",
    "nltk.download('stopwords')\n",
    "nltk.download('wordnet')"
   ]
  },
  {
   "cell_type": "code",
   "execution_count": null,
   "metadata": {
    "colab": {
     "base_uri": "https://localhost:8080/"
    },
    "executionInfo": {
     "elapsed": 6704,
     "status": "ok",
     "timestamp": 1742860056178,
     "user": {
      "displayName": "Xin Yan",
      "userId": "08308894215731508440"
     },
     "user_tz": 240
    },
    "id": "Xctv8W-jAIT-",
    "outputId": "8127a63a-6937-4e48-dbf2-ee637871e9c7"
   },
   "outputs": [
    {
     "name": "stdout",
     "output_type": "stream",
     "text": [
      "Total posts loaded: 682661\n"
     ]
    }
   ],
   "source": [
    "import pandas as pd\n",
    "\n",
    "# Load train, validation, and test data (TSV files)\n",
    "df_train = pd.read_csv('/content/news_data/multimodal_train.tsv', sep='\\t', on_bad_lines='skip')\n",
    "df_val   = pd.read_csv('/content/news_data/multimodal_validate.tsv', sep='\\t', on_bad_lines='skip')\n",
    "df_test  = pd.read_csv('/content/news_data/multimodal_test_public.tsv', sep='\\t', on_bad_lines='skip')\n",
    "\n",
    "df_posts = pd.concat([df_train, df_val, df_test], ignore_index=True)\n",
    "print(\"Total posts loaded:\", len(df_posts))"
   ]
  },
  {
   "cell_type": "code",
   "execution_count": null,
   "metadata": {
    "colab": {
     "base_uri": "https://localhost:8080/"
    },
    "executionInfo": {
     "elapsed": 80,
     "status": "ok",
     "timestamp": 1742944227913,
     "user": {
      "displayName": "Xin Yan",
      "userId": "08308894215731508440"
     },
     "user_tz": 240
    },
    "id": "VH3C2aUFhGEG",
    "outputId": "08c792da-2631-4935-cc21-b0d4bb67da46"
   },
   "outputs": [
    {
     "name": "stdout",
     "output_type": "stream",
     "text": [
      "Total posts loaded: 100000\n"
     ]
    }
   ],
   "source": [
    "import pandas as pd\n",
    "\n",
    "# Load train, validation, and test data (TSV files)\n",
    "# df_train = pd.read_csv('/content/news_data/multimodal_train_80k.tsv', sep='\\t', on_bad_lines='skip')\n",
    "# df_val   = pd.read_csv('/content/news_data/multimodal_eval_20k.tsv', sep='\\t', on_bad_lines='skip')\n",
    "# df_test  = pd.read_csv('/content/news_data/multimodal_test_public.tsv', sep='\\t', on_bad_lines='skip')\n",
    "\n",
    "df_posts = pd.concat([df_train, df_val], ignore_index=True)\n",
    "print(\"Total posts loaded:\", len(df_posts))"
   ]
  },
  {
   "cell_type": "code",
   "execution_count": 10,
   "metadata": {
    "colab": {
     "base_uri": "https://localhost:8080/"
    },
    "executionInfo": {
     "elapsed": 80931,
     "status": "ok",
     "timestamp": 1742943930443,
     "user": {
      "displayName": "Xin Yan",
      "userId": "08308894215731508440"
     },
     "user_tz": 240
    },
    "id": "HghMql-UH4Li",
    "outputId": "bba71d8d-e581-4758-ff69-3e1dd0092b88"
   },
   "outputs": [
    {
     "name": "stderr",
     "output_type": "stream",
     "text": [
      "<ipython-input-10-3f90edd025b9>:2: DtypeWarning: Columns (0,1,2,3,4,5,6) have mixed types. Specify dtype option on import or set low_memory=False.\n",
      "  df_comments = pd.read_csv('/content/news_data/all_comments.tsv', sep='\\t', on_bad_lines='skip')\n"
     ]
    },
    {
     "name": "stdout",
     "output_type": "stream",
     "text": [
      "Total comments loaded: 10697533\n",
      "Post columns: ['author', 'clean_title', 'created_utc', 'domain', 'hasImage', 'id', 'image_url', 'linked_submission_id', 'num_comments', 'score', 'subreddit', 'title', 'upvote_ratio', '2_way_label', '3_way_label', '6_way_label']\n",
      "Comment columns: ['Unnamed: 0', 'id', 'author', 'body', 'isTopLevel', 'parent_id', 'submission_id', 'ups']\n"
     ]
    }
   ],
   "source": [
    "# Load comments data\n",
    "df_comments = pd.read_csv('/content/news_data/all_comments.tsv', sep='\\t', on_bad_lines='skip')\n",
    "print(\"Total comments loaded:\", len(df_comments))\n",
    "# Peek at columns\n",
    "print(\"Post columns:\", df_posts.columns.tolist())\n",
    "print(\"Comment columns:\", df_comments.columns.tolist())"
   ]
  },
  {
   "cell_type": "code",
   "execution_count": 9,
   "metadata": {
    "colab": {
     "base_uri": "https://localhost:8080/"
    },
    "executionInfo": {
     "elapsed": 41,
     "status": "ok",
     "timestamp": 1742943785209,
     "user": {
      "displayName": "Xin Yan",
      "userId": "08308894215731508440"
     },
     "user_tz": 240
    },
    "id": "Z7wq-dmdIz8T",
    "outputId": "3f32971d-2f73-46ce-d481-c23434c91080"
   },
   "outputs": [
    {
     "data": {
      "text/plain": [
       "np.float64(0.5)"
      ]
     },
     "execution_count": 9,
     "metadata": {},
     "output_type": "execute_result"
    }
   ],
   "source": [
    "df_posts['2_way_label'].mean()"
   ]
  },
  {
   "cell_type": "markdown",
   "metadata": {
    "id": "kMpsWvmjJMt6"
   },
   "source": [
    "## 2. Data pre-processing"
   ]
  },
  {
   "cell_type": "code",
   "execution_count": null,
   "metadata": {
    "colab": {
     "base_uri": "https://localhost:8080/"
    },
    "executionInfo": {
     "elapsed": 134,
     "status": "ok",
     "timestamp": 1742944229616,
     "user": {
      "displayName": "Xin Yan",
      "userId": "08308894215731508440"
     },
     "user_tz": 240
    },
    "id": "f6jL86GVH5gs",
    "outputId": "4ae20439-470a-486b-82be-fe34d902f0fd"
   },
   "outputs": [
    {
     "name": "stdout",
     "output_type": "stream",
     "text": [
      "100000\n",
      "100000\n",
      "100000\n",
      "100000\n"
     ]
    }
   ],
   "source": [
    "# Remove posts with missing or empty titles\n",
    "df_posts = df_posts.dropna(subset=['clean_title'])\n",
    "print(len(df_posts))\n",
    "df_posts = df_posts[df_posts['clean_title'].str.strip().astype(bool)]\n",
    "print(len(df_posts))\n",
    "\n",
    "df_posts = df_posts.dropna(subset=['2_way_label'])\n",
    "print(len(df_posts))\n",
    "\n",
    "df_posts['2_way_label'] = df_posts['2_way_label'].astype(int)\n",
    "print(len(df_posts))"
   ]
  },
  {
   "cell_type": "code",
   "execution_count": null,
   "metadata": {
    "colab": {
     "base_uri": "https://localhost:8080/"
    },
    "executionInfo": {
     "elapsed": 50,
     "status": "ok",
     "timestamp": 1742944231150,
     "user": {
      "displayName": "Xin Yan",
      "userId": "08308894215731508440"
     },
     "user_tz": 240
    },
    "id": "mWzR8ZFrINN3",
    "outputId": "b7531d88-a9c4-4ef0-97e9-711775b0ab09"
   },
   "outputs": [
    {
     "name": "stdout",
     "output_type": "stream",
     "text": [
      "100000\n",
      "Filtered posts count: 100000\n",
      "Fake news count: 50000\n",
      "Real news count: 50000\n"
     ]
    }
   ],
   "source": [
    "\n",
    "# post_ids_with_comments = set(df_comments['submission_id'].unique())\n",
    "# df_posts = df_posts[df_posts['id'].isin(post_ids_with_comments)]\n",
    "print(len(df_posts))\n",
    "# Drop duplicate titles if any (to remove duplicate news)\n",
    "# df_posts = df_posts.drop_duplicates(subset=['clean_title'])\n",
    "\n",
    "print(\"Filtered posts count:\", len(df_posts))\n",
    "print(\"Fake news count:\", sum(df_posts['2_way_label'] == 1))\n",
    "print(\"Real news count:\", sum(df_posts['2_way_label'] == 0))"
   ]
  },
  {
   "cell_type": "markdown",
   "metadata": {
    "id": "7Aqg6Fj2K9v1"
   },
   "source": [
    "## 3. Text pre-processing"
   ]
  },
  {
   "cell_type": "code",
   "execution_count": null,
   "metadata": {
    "id": "9jFTgcS3Kzn_"
   },
   "outputs": [],
   "source": [
    "# Remove HTML tags and URLs.\n",
    "# Normalize accented characters (e.g., “café” -> “cafe”).\n",
    "# Expand contractions (e.g., \"can't\" -> \"cannot\").\n",
    "# Convert emojis to text (e.g., 😢 -> \":crying_face:\" -> \"crying face\").\n",
    "# Remove special characters (keeping only letters, numbers, whitespace, and ! and ? as they may carry sentiment).\n",
    "# Fix spelling of words (using autocorrect).\n",
    "# Remove stopwords (common words like “the”, “and”).\n",
    "# Trim extra whitespace."
   ]
  },
  {
   "cell_type": "code",
   "execution_count": null,
   "metadata": {
    "colab": {
     "base_uri": "https://localhost:8080/"
    },
    "executionInfo": {
     "elapsed": 849,
     "status": "ok",
     "timestamp": 1742944237439,
     "user": {
      "displayName": "Xin Yan",
      "userId": "08308894215731508440"
     },
     "user_tz": 240
    },
    "id": "hWaKQnUuKzyc",
    "outputId": "5eac1146-2a63-49ad-e6d2-4b3cec40cd69"
   },
   "outputs": [
    {
     "name": "stderr",
     "output_type": "stream",
     "text": [
      "[nltk_data] Downloading package stopwords to /root/nltk_data...\n",
      "[nltk_data]   Package stopwords is already up-to-date!\n"
     ]
    }
   ],
   "source": [
    "import re\n",
    "import string\n",
    "from autocorrect import Speller\n",
    "from unidecode import unidecode\n",
    "import emoji\n",
    "import contractions\n",
    "from nltk.corpus import stopwords\n",
    "import nltk\n",
    "\n",
    "nltk.download('stopwords')\n",
    "\n",
    "spell = Speller(lang='en')\n",
    "stop_words = set(stopwords.words('english'))\n",
    "\n",
    "punct_to_keep = \"!?\";\n",
    "\n",
    "def clean_text(text: str) -> str:\n",
    "    text = text.lower()\n",
    "    text = re.sub(r'<.*?>', ' ', text)\n",
    "    text = re.sub(r'http\\S+|www\\.\\S+', ' ', text)\n",
    "    text = contractions.fix(text)\n",
    "    text = emoji.demojize(text, delimiters=(\" \", \" \"))\n",
    "    text = unidecode(text)\n",
    "    text = text.replace(\":\", \" \")\n",
    "    text = text.replace(\"_\", \" \")\n",
    "    text = re.sub(f\"[^{re.escape(string.ascii_letters + string.digits + string.whitespace + punct_to_keep)}]\", \" \", text)\n",
    "    text = re.sub(r'\\s+', ' ', text).strip()\n",
    "    corrected_words = []\n",
    "    for word in text.split():\n",
    "        if word not in punct_to_keep:\n",
    "            corrected = spell(word)\n",
    "        else:\n",
    "            corrected = word\n",
    "        corrected_words.append(corrected)\n",
    "    text = ' '.join(corrected_words)\n",
    "    text = ' '.join(w for w in text.split() if w not in stop_words)\n",
    "    text = text.strip()\n",
    "    return text"
   ]
  },
  {
   "cell_type": "code",
   "execution_count": 23,
   "metadata": {
    "colab": {
     "base_uri": "https://localhost:8080/"
    },
    "executionInfo": {
     "elapsed": 54,
     "status": "ok",
     "timestamp": 1742944242817,
     "user": {
      "displayName": "Xin Yan",
      "userId": "08308894215731508440"
     },
     "user_tz": 240
    },
    "id": "5t4xksjlKz5U",
    "outputId": "027d88a6-3b57-452c-9d63-09eb290a1d73"
   },
   "outputs": [
    {
     "name": "stdout",
     "output_type": "stream",
     "text": [
      "Original: Great!!! This isn't a <b>drill</b> 😱. https://example.com now.\n",
      "Cleaned:  great!!! drill face screaming fear\n",
      "\n",
      "Original: great !!! drill 😱\n",
      "Cleaned:  great !!! drill face screaming fear\n",
      "\n",
      "Original: Happy 😊 day\n",
      "Cleaned:  happy smiling face smiling eyes day\n",
      "\n",
      "Original: Sad 😢 tears\n",
      "Cleaned:  sad crying face tears\n",
      "\n",
      "Original: Café 😍 time\n",
      "Cleaned:  cafe smiling face heart eyes time\n",
      "\n"
     ]
    }
   ],
   "source": [
    "# Test cases\n",
    "test_cases = [\n",
    "    \"Great!!! This isn't a <b>drill</b> 😱. https://example.com now.\",\n",
    "    \"great !!! drill 😱\",\n",
    "    \"Happy 😊 day\",\n",
    "    \"Sad 😢 tears\",\n",
    "    \"Café 😍 time\"  # Test with accented characters\n",
    "]\n",
    "\n",
    "for test in test_cases:\n",
    "    print(\"Original:\", test)\n",
    "    print(\"Cleaned: \", clean_text(test))\n",
    "    print()"
   ]
  },
  {
   "cell_type": "markdown",
   "metadata": {
    "id": "sf4CWibTRd5g"
   },
   "source": [
    "## 4. Sentiment Analysis of Titles"
   ]
  },
  {
   "cell_type": "code",
   "execution_count": null,
   "metadata": {
    "colab": {
     "base_uri": "https://localhost:8080/"
    },
    "executionInfo": {
     "elapsed": 3686571,
     "status": "ok",
     "timestamp": 1742948179339,
     "user": {
      "displayName": "Xin Yan",
      "userId": "08308894215731508440"
     },
     "user_tz": 240
    },
    "id": "eGyviEJzRLxG",
    "outputId": "affd4dae-2f4c-4ed9-a7a8-a157a54c6080"
   },
   "outputs": [
    {
     "name": "stderr",
     "output_type": "stream",
     "text": [
      "100%|██████████| 100000/100000 [1:01:26<00:00, 27.13it/s]\n"
     ]
    }
   ],
   "source": [
    "from textblob import TextBlob\n",
    "from tqdm import tqdm\n",
    "\n",
    "tqdm.pandas()\n",
    "# df_posts['title_cleaned'] = df_posts['clean_title'].apply(clean_text)\n",
    "df_posts['title_cleaned'] = df_posts['clean_title'].progress_apply(clean_text)\n",
    "\n",
    "# df_posts['sentiment_score'] = df_posts['title_cleaned'].apply(lambda txt: TextBlob(txt).sentiment.polarity)\n",
    "\n",
    "# print(df_posts[['clean_title', 'title_cleaned', 'sentiment_score']].head(5))\n",
    "\n",
    "# the result ranges from -1.0 (very negative) to +1.0 (very positive), with 0 being neutral."
   ]
  },
  {
   "cell_type": "code",
   "execution_count": 27,
   "metadata": {
    "executionInfo": {
     "elapsed": 34245,
     "status": "ok",
     "timestamp": 1742957317765,
     "user": {
      "displayName": "Xin Yan",
      "userId": "08308894215731508440"
     },
     "user_tz": 240
    },
    "id": "B9jDWUtelbju"
   },
   "outputs": [],
   "source": [
    "df_posts['sentiment_score'] = df_posts['title_cleaned'].apply(lambda txt: TextBlob(txt).sentiment.polarity)"
   ]
  },
  {
   "cell_type": "code",
   "execution_count": 28,
   "metadata": {
    "colab": {
     "base_uri": "https://localhost:8080/"
    },
    "executionInfo": {
     "elapsed": 176,
     "status": "ok",
     "timestamp": 1742957324844,
     "user": {
      "displayName": "Xin Yan",
      "userId": "08308894215731508440"
     },
     "user_tz": 240
    },
    "id": "uVACEwVrldfO",
    "outputId": "2fa56c8b-4e70-4a71-9911-5c341c31d60b"
   },
   "outputs": [
    {
     "name": "stdout",
     "output_type": "stream",
     "text": [
      "                                         clean_title  \\\n",
      "0      irs spent to make parody of trumps apprentice   \n",
      "1                    this cloud casting a big shadow   \n",
      "2  my poor positioning and the fact that the sky ...   \n",
      "3                    poop hot seller at disney world   \n",
      "4  gov chris christie at the stroke of midnight f...   \n",
      "\n",
      "                                       title_cleaned  sentiment_score  \n",
      "0            irs spent make parody trumps apprentice        -0.100000  \n",
      "1                           cloud casting big shadow         0.000000  \n",
      "2  poor positioning fact sky included reason see ...        -0.400000  \n",
      "3                       poop hot seller disney world         0.250000  \n",
      "4  gov chris christie stroke midnight friday orde...        -0.075758  \n"
     ]
    }
   ],
   "source": [
    "print(df_posts[['clean_title', 'title_cleaned', 'sentiment_score']].head(5))"
   ]
  },
  {
   "cell_type": "code",
   "execution_count": 29,
   "metadata": {
    "colab": {
     "base_uri": "https://localhost:8080/",
     "height": 564
    },
    "executionInfo": {
     "elapsed": 653,
     "status": "ok",
     "timestamp": 1742957328285,
     "user": {
      "displayName": "Xin Yan",
      "userId": "08308894215731508440"
     },
     "user_tz": 240
    },
    "id": "6efC3V7dRL6M",
    "outputId": "471275f1-6e0c-4feb-a024-478af228fce5"
   },
   "outputs": [
    {
     "data": {
      "image/png": "[encoded data removed]",
      "text/plain": [
       "<Figure size 1000x600 with 1 Axes>"
      ]
     },
     "metadata": {},
     "output_type": "display_data"
    }
   ],
   "source": [
    "import matplotlib.pyplot as plt\n",
    "\n",
    "plt.figure(figsize=(10, 6))\n",
    "plt.hist(df_posts['sentiment_score'].dropna(), bins=50, edgecolor='black')\n",
    "plt.title('Distribution of Sentiment Scores')\n",
    "plt.xlabel('Sentiment Score')\n",
    "plt.ylabel('Frequency')\n",
    "plt.grid(True, alpha=0.3)\n",
    "plt.show()"
   ]
  },
  {
   "cell_type": "code",
   "execution_count": 30,
   "metadata": {
    "colab": {
     "base_uri": "https://localhost:8080/"
    },
    "executionInfo": {
     "elapsed": 28,
     "status": "ok",
     "timestamp": 1742957334387,
     "user": {
      "displayName": "Xin Yan",
      "userId": "08308894215731508440"
     },
     "user_tz": 240
    },
    "id": "u6zoArj0IRQK",
    "outputId": "444a8c02-c76e-4284-ddde-d23d73aff9d5"
   },
   "outputs": [
    {
     "data": {
      "text/plain": [
       "(100000, 18)"
      ]
     },
     "execution_count": 30,
     "metadata": {},
     "output_type": "execute_result"
    }
   ],
   "source": [
    "df_posts.shape"
   ]
  },
  {
   "cell_type": "code",
   "execution_count": null,
   "metadata": {
    "colab": {
     "base_uri": "https://localhost:8080/"
    },
    "executionInfo": {
     "elapsed": 3780,
     "status": "ok",
     "timestamp": 1742957402403,
     "user": {
      "displayName": "Xin Yan",
      "userId": "08308894215731508440"
     },
     "user_tz": 240
    },
    "id": "3_j0WaLmWtnr",
    "outputId": "91c0af7d-4bd9-4088-fa89-8024551dbf20"
   },
   "outputs": [
    {
     "name": "stdout",
     "output_type": "stream",
     "text": [
      "Directory already exists: /content/gdrive/MyDrive/fakenews_data\n",
      "DataFrame saved to /content/gdrive/MyDrive/fakenews_data/df_posts_100k.tsv\n",
      "File exists: True\n"
     ]
    }
   ],
   "source": [
    "# Define the target directory\n",
    "output_dir = '/content/gdrive/MyDrive/fakenews_data'\n",
    "\n",
    "if not os.path.exists(output_dir):\n",
    "    os.makedirs(output_dir)\n",
    "    print(f\"Created directory: {output_dir}\")\n",
    "else:\n",
    "    print(f\"Directory already exists: {output_dir}\")\n",
    "\n",
    "# Save DataFrame to TSV\n",
    "output_path = os.path.join(output_dir, 'df_posts_100k.tsv')\n",
    "df_posts.to_csv(output_path, sep='\\t', index=False)\n",
    "print(f\"DataFrame saved to {output_path}\")\n",
    "\n",
    "print(\"File exists:\", os.path.exists(output_path))"
   ]
  },
  {
   "cell_type": "code",
   "execution_count": null,
   "metadata": {
    "id": "036wA295kKht"
   },
   "outputs": [],
   "source": [
    "df_sample = pd.read_csv('/content/news_data/df_sample_10k.tsv', sep='\\t', on_bad_lines='skip')"
   ]
  },
  {
   "cell_type": "code",
   "execution_count": 32,
   "metadata": {
    "executionInfo": {
     "elapsed": 169,
     "status": "ok",
     "timestamp": 1742957441788,
     "user": {
      "displayName": "Xin Yan",
      "userId": "08308894215731508440"
     },
     "user_tz": 240
    },
    "id": "ObxryLyuI82C"
   },
   "outputs": [],
   "source": [
    "df_sample = df_posts.sample(n=100000, random_state=42)"
   ]
  },
  {
   "cell_type": "code",
   "execution_count": 33,
   "metadata": {
    "colab": {
     "base_uri": "https://localhost:8080/",
     "height": 1000
    },
    "executionInfo": {
     "elapsed": 1447,
     "status": "ok",
     "timestamp": 1742957444698,
     "user": {
      "displayName": "Xin Yan",
      "userId": "08308894215731508440"
     },
     "user_tz": 240
    },
    "id": "1By5C9VII9CO",
    "outputId": "d8ce534d-05fd-4848-9fff-63de54b9dedf"
   },
   "outputs": [
    {
     "data": {
      "application/vnd.google.colaboratory.intrinsic+json": {
       "summary": "{\n  \"name\": \"df_sample\",\n  \"rows\": 100000,\n  \"fields\": [\n    {\n      \"column\": \"author\",\n      \"properties\": {\n        \"dtype\": \"string\",\n        \"num_unique_values\": 56582,\n        \"samples\": [\n          \"DarkSideOfDaMoon\",\n          \"TheCamera\",\n          \"duuudeee1\"\n        ],\n        \"semantic_type\": \"\",\n        \"description\": \"\"\n      }\n    },\n    {\n      \"column\": \"clean_title\",\n      \"properties\": {\n        \"dtype\": \"string\",\n        \"num_unique_values\": 99212,\n        \"samples\": [\n          \"digitalage robber foiled by analog elderly woman at convenience store in fukuoka\",\n          \"frances onetime top taxenforcer stands trial on tax fraud charges\",\n          \"unibrow model challenges beauty stereotypes\"\n        ],\n        \"semantic_type\": \"\",\n        \"description\": \"\"\n      }\n    },\n    {\n      \"column\": \"created_utc\",\n      \"properties\": {\n        \"dtype\": \"number\",\n        \"std\": 63450080.363532275,\n        \"min\": 1214333719.0,\n        \"max\": 1571836718.0,\n        \"num_unique_values\": 99953,\n        \"samples\": [\n          1556522655.0,\n          1511052899.0,\n          1555192435.0\n        ],\n        \"semantic_type\": \"\",\n        \"description\": \"\"\n      }\n    },\n    {\n      \"column\": \"domain\",\n      \"properties\": {\n        \"dtype\": \"category\",\n        \"num_unique_values\": 5093,\n        \"samples\": [\n          \"images.slideplayer.com\",\n          \"bevnet.com\",\n          \"hitfix.com\"\n        ],\n        \"semantic_type\": \"\",\n        \"description\": \"\"\n      }\n    },\n    {\n      \"column\": \"hasImage\",\n      \"properties\": {\n        \"dtype\": \"boolean\",\n        \"num_unique_values\": 1,\n        \"samples\": [\n          true\n        ],\n        \"semantic_type\": \"\",\n        \"description\": \"\"\n      }\n    },\n    {\n      \"column\": \"id\",\n      \"properties\": {\n        \"dtype\": \"string\",\n        \"num_unique_values\": 100000,\n        \"samples\": [\n          \"9do4f0\"\n        ],\n        \"semantic_type\": \"\",\n        \"description\": \"\"\n      }\n    },\n    {\n      \"column\": \"image_url\",\n      \"properties\": {\n        \"dtype\": \"string\",\n        \"num_unique_values\": 97112,\n        \"samples\": [\n          \"https://preview.redd.it/oe8fyl0oq5d31.jpg?width=320&crop=smart&auto=webp&s=d58a797e66b9589fa46525dd80d4420065b1f949\"\n        ],\n        \"semantic_type\": \"\",\n        \"description\": \"\"\n      }\n    },\n    {\n      \"column\": \"linked_submission_id\",\n      \"properties\": {\n        \"dtype\": \"number\",\n        \"std\": null,\n        \"min\": null,\n        \"max\": null,\n        \"num_unique_values\": 0,\n        \"samples\": [],\n        \"semantic_type\": \"\",\n        \"description\": \"\"\n      }\n    },\n    {\n      \"column\": \"num_comments\",\n      \"properties\": {\n        \"dtype\": \"number\",\n        \"std\": 139.59351120638155,\n        \"min\": 0.0,\n        \"max\": 10783.0,\n        \"num_unique_values\": 1040,\n        \"samples\": [],\n        \"semantic_type\": \"\",\n        \"description\": \"\"\n      }\n    },\n    {\n      \"column\": \"score\",\n      \"properties\": {\n        \"dtype\": \"number\",\n        \"std\": 3542,\n        \"min\": 1,\n        \"max\": 131683,\n        \"num_unique_values\": 5396,\n        \"samples\": [],\n        \"semantic_type\": \"\",\n        \"description\": \"\"\n      }\n    },\n    {\n      \"column\": \"subreddit\",\n      \"properties\": {\n        \"dtype\": \"category\",\n        \"num_unique_values\": 17,\n        \"samples\": [],\n        \"semantic_type\": \"\",\n        \"description\": \"\"\n      }\n    },\n    {\n      \"column\": \"title\",\n      \"properties\": {\n        \"dtype\": \"string\",\n        \"num_unique_values\": 99733,\n        \"samples\": [],\n        \"semantic_type\": \"\",\n        \"description\": \"\"\n      }\n    },\n    {\n      \"column\": \"upvote_ratio\",\n      \"properties\": {\n        \"dtype\": \"number\",\n        \"std\": 0.10676128098756744,\n        \"min\": 0.5,\n        \"max\": 1.0,\n        \"num_unique_values\": 51,\n        \"samples\": [],\n        \"semantic_type\": \"\",\n        \"description\": \"\"\n      }\n    },\n    {\n      \"column\": \"2_way_label\",\n      \"properties\": {\n        \"dtype\": \"number\",\n        \"std\": 0,\n        \"min\": 0,\n        \"max\": 1,\n        \"num_unique_values\": 2,\n        \"samples\": [],\n        \"semantic_type\": \"\",\n        \"description\": \"\"\n      }\n    },\n    {\n      \"column\": \"3_way_label\",\n      \"properties\": {\n        \"dtype\": \"number\",\n        \"std\": 0,\n        \"min\": 0,\n        \"max\": 2,\n        \"num_unique_values\": 3,\n        \"samples\": [],\n        \"semantic_type\": \"\",\n        \"description\": \"\"\n      }\n    },\n    {\n      \"column\": \"6_way_label\",\n      \"properties\": {\n        \"dtype\": \"number\",\n        \"std\": 2,\n        \"min\": 0,\n        \"max\": 5,\n        \"num_unique_values\": 4,\n        \"samples\": [],\n        \"semantic_type\": \"\",\n        \"description\": \"\"\n      }\n    },\n    {\n      \"column\": \"title_cleaned\",\n      \"properties\": {\n        \"dtype\": \"string\",\n        \"num_unique_values\": 98634,\n        \"samples\": [],\n        \"semantic_type\": \"\",\n        \"description\": \"\"\n      }\n    },\n    {\n      \"column\": \"sentiment_score\",\n      \"properties\": {\n        \"dtype\": \"number\",\n        \"std\": 0.23911469288766704,\n        \"min\": -1.0,\n        \"max\": 1.0,\n        \"num_unique_values\": 1997,\n        \"samples\": [],\n        \"semantic_type\": \"\",\n        \"description\": \"\"\n      }\n    }\n  ]\n}",
       "type": "dataframe",
       "variable_name": "df_sample"
      },
      "text/html": [
       "\n",
       "  <div id=\"df-7a6d2e69-a49d-45fd-8420-5e1d8f6883a9\" class=\"colab-df-container\">\n",
       "    <div>\n",
       "<style scoped>\n",
       "    .dataframe tbody tr th:only-of-type {\n",
       "        vertical-align: middle;\n",
       "    }\n",
       "\n",
       "    .dataframe tbody tr th {\n",
       "        vertical-align: top;\n",
       "    }\n",
       "\n",
       "    .dataframe thead th {\n",
       "        text-align: right;\n",
       "    }\n",
       "</style>\n",
       "<table border=\"1\" class=\"dataframe\">\n",
       "  <thead>\n",
       "    <tr style=\"text-align: right;\">\n",
       "      <th></th>\n",
       "      <th>author</th>\n",
       "      <th>clean_title</th>\n",
       "      <th>created_utc</th>\n",
       "      <th>domain</th>\n",
       "      <th>hasImage</th>\n",
       "      <th>id</th>\n",
       "      <th>image_url</th>\n",
       "      <th>linked_submission_id</th>\n",
       "      <th>num_comments</th>\n",
       "      <th>score</th>\n",
       "      <th>subreddit</th>\n",
       "      <th>title</th>\n",
       "      <th>upvote_ratio</th>\n",
       "      <th>2_way_label</th>\n",
       "      <th>3_way_label</th>\n",
       "      <th>6_way_label</th>\n",
       "      <th>title_cleaned</th>\n",
       "      <th>sentiment_score</th>\n",
       "    </tr>\n",
       "  </thead>\n",
       "  <tbody>\n",
       "    <tr>\n",
       "      <th>75721</th>\n",
       "      <td>pantsineedthem</td>\n",
       "      <td>a man contorting in midair the seat of his pan...</td>\n",
       "      <td>1.456696e+09</td>\n",
       "      <td>i.imgur.com</td>\n",
       "      <td>True</td>\n",
       "      <td>485yed</td>\n",
       "      <td>https://external-preview.redd.it/9jWNwXeDbomcC...</td>\n",
       "      <td>NaN</td>\n",
       "      <td>9.0</td>\n",
       "      <td>22</td>\n",
       "      <td>photoshopbattles</td>\n",
       "      <td>PsBattle: a man contorting in mid-air, the sea...</td>\n",
       "      <td>0.69</td>\n",
       "      <td>1</td>\n",
       "      <td>0</td>\n",
       "      <td>0</td>\n",
       "      <td>man contorting midair seat pants midrib</td>\n",
       "      <td>0.000000</td>\n",
       "    </tr>\n",
       "    <tr>\n",
       "      <th>80184</th>\n",
       "      <td>Child-Connoisseur</td>\n",
       "      <td>does this count</td>\n",
       "      <td>1.550431e+09</td>\n",
       "      <td>i.redd.it</td>\n",
       "      <td>True</td>\n",
       "      <td>arnszc</td>\n",
       "      <td>https://preview.redd.it/9bckiseng6h21.jpg?widt...</td>\n",
       "      <td>NaN</td>\n",
       "      <td>3.0</td>\n",
       "      <td>11</td>\n",
       "      <td>confusing_perspective</td>\n",
       "      <td>Does this count?</td>\n",
       "      <td>0.64</td>\n",
       "      <td>0</td>\n",
       "      <td>2</td>\n",
       "      <td>2</td>\n",
       "      <td>count</td>\n",
       "      <td>0.000000</td>\n",
       "    </tr>\n",
       "    <tr>\n",
       "      <th>19864</th>\n",
       "      <td>Inaerius</td>\n",
       "      <td>this business charges you a fee if you pay by ...</td>\n",
       "      <td>1.564005e+09</td>\n",
       "      <td>imgur.com</td>\n",
       "      <td>True</td>\n",
       "      <td>cheoxt</td>\n",
       "      <td>https://external-preview.redd.it/21wLmegVt9RZC...</td>\n",
       "      <td>NaN</td>\n",
       "      <td>6.0</td>\n",
       "      <td>15</td>\n",
       "      <td>mildlyinteresting</td>\n",
       "      <td>This business charges you a fee if you pay by ...</td>\n",
       "      <td>0.87</td>\n",
       "      <td>1</td>\n",
       "      <td>0</td>\n",
       "      <td>0</td>\n",
       "      <td>business charges fee pay cash rather card</td>\n",
       "      <td>0.000000</td>\n",
       "    </tr>\n",
       "    <tr>\n",
       "      <th>76699</th>\n",
       "      <td>anitachance</td>\n",
       "      <td>hidden homos and how to spot them usa</td>\n",
       "      <td>1.510846e+09</td>\n",
       "      <td>imgur.com</td>\n",
       "      <td>True</td>\n",
       "      <td>7dd3hs</td>\n",
       "      <td>https://external-preview.redd.it/EfabT08QQ1Y-o...</td>\n",
       "      <td>NaN</td>\n",
       "      <td>83.0</td>\n",
       "      <td>751</td>\n",
       "      <td>propagandaposters</td>\n",
       "      <td>“Hidden Homos and How to Spot Them!” USA, 1962</td>\n",
       "      <td>0.97</td>\n",
       "      <td>0</td>\n",
       "      <td>1</td>\n",
       "      <td>5</td>\n",
       "      <td>hidden homos spot usa</td>\n",
       "      <td>-0.166667</td>\n",
       "    </tr>\n",
       "    <tr>\n",
       "      <th>92991</th>\n",
       "      <td>hey_watti</td>\n",
       "      <td>this pic of london looks like it should be a v...</td>\n",
       "      <td>1.555680e+09</td>\n",
       "      <td>i.redd.it</td>\n",
       "      <td>True</td>\n",
       "      <td>bez2hw</td>\n",
       "      <td>https://preview.redd.it/6etr3pms28t21.jpg?widt...</td>\n",
       "      <td>NaN</td>\n",
       "      <td>1197.0</td>\n",
       "      <td>77744</td>\n",
       "      <td>mildlyinteresting</td>\n",
       "      <td>This pic of London looks like it should be a v...</td>\n",
       "      <td>0.92</td>\n",
       "      <td>1</td>\n",
       "      <td>0</td>\n",
       "      <td>0</td>\n",
       "      <td>pic london looks like video</td>\n",
       "      <td>0.000000</td>\n",
       "    </tr>\n",
       "    <tr>\n",
       "      <th>...</th>\n",
       "      <td>...</td>\n",
       "      <td>...</td>\n",
       "      <td>...</td>\n",
       "      <td>...</td>\n",
       "      <td>...</td>\n",
       "      <td>...</td>\n",
       "      <td>...</td>\n",
       "      <td>...</td>\n",
       "      <td>...</td>\n",
       "      <td>...</td>\n",
       "      <td>...</td>\n",
       "      <td>...</td>\n",
       "      <td>...</td>\n",
       "      <td>...</td>\n",
       "      <td>...</td>\n",
       "      <td>...</td>\n",
       "      <td>...</td>\n",
       "      <td>...</td>\n",
       "    </tr>\n",
       "    <tr>\n",
       "      <th>6265</th>\n",
       "      <td>gifs_SS</td>\n",
       "      <td>hands up its a choice watch the dude in the de...</td>\n",
       "      <td>1.501448e+09</td>\n",
       "      <td>i.imgur.com</td>\n",
       "      <td>True</td>\n",
       "      <td>6qjuqb</td>\n",
       "      <td>https://external-preview.redd.it/15hr2mjzyG4IC...</td>\n",
       "      <td>NaN</td>\n",
       "      <td>20.0</td>\n",
       "      <td>6</td>\n",
       "      <td>subredditsimulator</td>\n",
       "      <td>Hands up, its a choice ! Watch the dude in the...</td>\n",
       "      <td>0.75</td>\n",
       "      <td>0</td>\n",
       "      <td>2</td>\n",
       "      <td>3</td>\n",
       "      <td>hands choice watch dude degree corner sun</td>\n",
       "      <td>0.000000</td>\n",
       "    </tr>\n",
       "    <tr>\n",
       "      <th>54886</th>\n",
       "      <td>AbsoluteZero1111</td>\n",
       "      <td>they both share an arm sorry for the poor phot...</td>\n",
       "      <td>1.563972e+09</td>\n",
       "      <td>i.redd.it</td>\n",
       "      <td>True</td>\n",
       "      <td>ch7nx9</td>\n",
       "      <td>https://preview.redd.it/1jivzxb3y8c31.jpg?widt...</td>\n",
       "      <td>NaN</td>\n",
       "      <td>0.0</td>\n",
       "      <td>34</td>\n",
       "      <td>confusing_perspective</td>\n",
       "      <td>They both share an arm. (Sorry for the poor ph...</td>\n",
       "      <td>0.88</td>\n",
       "      <td>0</td>\n",
       "      <td>2</td>\n",
       "      <td>2</td>\n",
       "      <td>share arm sorry poor photo quality</td>\n",
       "      <td>-0.450000</td>\n",
       "    </tr>\n",
       "    <tr>\n",
       "      <th>76820</th>\n",
       "      <td>kingsigma</td>\n",
       "      <td>can you see whats wrong with this bikini astou...</td>\n",
       "      <td>1.492836e+09</td>\n",
       "      <td>archive.is</td>\n",
       "      <td>True</td>\n",
       "      <td>66u7ab</td>\n",
       "      <td>https://external-preview.redd.it/zalUNtsBwmjtw...</td>\n",
       "      <td>NaN</td>\n",
       "      <td>13.0</td>\n",
       "      <td>188</td>\n",
       "      <td>savedyouaclick</td>\n",
       "      <td>Can YOU see what’s wrong with this bikini? Ast...</td>\n",
       "      <td>0.93</td>\n",
       "      <td>0</td>\n",
       "      <td>2</td>\n",
       "      <td>5</td>\n",
       "      <td>see wrong bikini astounding secret behind woma...</td>\n",
       "      <td>-0.140000</td>\n",
       "    </tr>\n",
       "    <tr>\n",
       "      <th>860</th>\n",
       "      <td>alborz27</td>\n",
       "      <td>what happens when you put a speaker in a huge ...</td>\n",
       "      <td>1.485814e+09</td>\n",
       "      <td>streamable.com</td>\n",
       "      <td>True</td>\n",
       "      <td>5r3xf1</td>\n",
       "      <td>https://external-preview.redd.it/OYbfCIPjzVp8W...</td>\n",
       "      <td>NaN</td>\n",
       "      <td>1.0</td>\n",
       "      <td>31</td>\n",
       "      <td>savedyouaclick</td>\n",
       "      <td>What Happens When You Put A Speaker In A Huge ...</td>\n",
       "      <td>0.84</td>\n",
       "      <td>0</td>\n",
       "      <td>2</td>\n",
       "      <td>5</td>\n",
       "      <td>happens put speaker huge vacuum chamber hear</td>\n",
       "      <td>0.195833</td>\n",
       "    </tr>\n",
       "    <tr>\n",
       "      <th>15795</th>\n",
       "      <td>Mesnia</td>\n",
       "      <td>o</td>\n",
       "      <td>1.362877e+09</td>\n",
       "      <td>imgur.com</td>\n",
       "      <td>True</td>\n",
       "      <td>19zzpz</td>\n",
       "      <td>https://external-preview.redd.it/nhtu3xolsg68e...</td>\n",
       "      <td>NaN</td>\n",
       "      <td>1.0</td>\n",
       "      <td>158</td>\n",
       "      <td>pareidolia</td>\n",
       "      <td>:o</td>\n",
       "      <td>0.93</td>\n",
       "      <td>0</td>\n",
       "      <td>2</td>\n",
       "      <td>2</td>\n",
       "      <td></td>\n",
       "      <td>0.000000</td>\n",
       "    </tr>\n",
       "  </tbody>\n",
       "</table>\n",
       "<p>100000 rows × 18 columns</p>\n",
       "</div>\n",
       "    <div class=\"colab-df-buttons\">\n",
       "\n",
       "  <div class=\"colab-df-container\">\n",
       "    <button class=\"colab-df-convert\" onclick=\"convertToInteractive('df-7a6d2e69-a49d-45fd-8420-5e1d8f6883a9')\"\n",
       "            title=\"Convert this dataframe to an interactive table.\"\n",
       "            style=\"display:none;\">\n",
       "\n",
       "  <svg xmlns=\"http://www.w3.org/2000/svg\" height=\"24px\" viewBox=\"0 -960 960 960\">\n",
       "    <path d=\"M120-120v-720h720v720H120Zm60-500h600v-160H180v160Zm220 220h160v-160H400v160Zm0 220h160v-160H400v160ZM180-400h160v-160H180v160Zm440 0h160v-160H620v160ZM180-180h160v-160H180v160Zm440 0h160v-160H620v160Z\"/>\n",
       "  </svg>\n",
       "    </button>\n",
       "\n",
       "  <style>\n",
       "    .colab-df-container {\n",
       "      display:flex;\n",
       "      gap: 12px;\n",
       "    }\n",
       "\n",
       "    .colab-df-convert {\n",
       "      background-color: #E8F0FE;\n",
       "      border: none;\n",
       "      border-radius: 50%;\n",
       "      cursor: pointer;\n",
       "      display: none;\n",
       "      fill: #1967D2;\n",
       "      height: 32px;\n",
       "      padding: 0 0 0 0;\n",
       "      width: 32px;\n",
       "    }\n",
       "\n",
       "    .colab-df-convert:hover {\n",
       "      background-color: #E2EBFA;\n",
       "      box-shadow: 0px 1px 2px rgba(60, 64, 67, 0.3), 0px 1px 3px 1px rgba(60, 64, 67, 0.15);\n",
       "      fill: #174EA6;\n",
       "    }\n",
       "\n",
       "    .colab-df-buttons div {\n",
       "      margin-bottom: 4px;\n",
       "    }\n",
       "\n",
       "    [theme=dark] .colab-df-convert {\n",
       "      background-color: #3B4455;\n",
       "      fill: #D2E3FC;\n",
       "    }\n",
       "\n",
       "    [theme=dark] .colab-df-convert:hover {\n",
       "      background-color: #434B5C;\n",
       "      box-shadow: 0px 1px 3px 1px rgba(0, 0, 0, 0.15);\n",
       "      filter: drop-shadow(0px 1px 2px rgba(0, 0, 0, 0.3));\n",
       "      fill: #FFFFFF;\n",
       "    }\n",
       "  </style>\n",
       "\n",
       "    <script>\n",
       "      const buttonEl =\n",
       "        document.querySelector('#df-7a6d2e69-a49d-45fd-8420-5e1d8f6883a9 button.colab-df-convert');\n",
       "      buttonEl.style.display =\n",
       "        google.colab.kernel.accessAllowed ? 'block' : 'none';\n",
       "\n",
       "      async function convertToInteractive(key) {\n",
       "        const element = document.querySelector('#df-7a6d2e69-a49d-45fd-8420-5e1d8f6883a9');\n",
       "        const dataTable =\n",
       "          await google.colab.kernel.invokeFunction('convertToInteractive',\n",
       "                                                    [key], {});\n",
       "        if (!dataTable) return;\n",
       "\n",
       "        const docLinkHtml = 'Like what you see? Visit the ' +\n",
       "          '<a target=\"_blank\" href=https://colab.research.google.com/notebooks/data_table.ipynb>data table notebook</a>'\n",
       "          + ' to learn more about interactive tables.';\n",
       "        element.innerHTML = '';\n",
       "        dataTable['output_type'] = 'display_data';\n",
       "        await google.colab.output.renderOutput(dataTable, element);\n",
       "        const docLink = document.createElement('div');\n",
       "        docLink.innerHTML = docLinkHtml;\n",
       "        element.appendChild(docLink);\n",
       "      }\n",
       "    </script>\n",
       "  </div>\n",
       "\n",
       "\n",
       "<div id=\"df-4ef6770b-a1b1-4c32-83c4-97c3d665159e\">\n",
       "  <button class=\"colab-df-quickchart\" onclick=\"quickchart('df-4ef6770b-a1b1-4c32-83c4-97c3d665159e')\"\n",
       "            title=\"Suggest charts\"\n",
       "            style=\"display:none;\">\n",
       "\n",
       "<svg xmlns=\"http://www.w3.org/2000/svg\" height=\"24px\"viewBox=\"0 0 24 24\"\n",
       "     width=\"24px\">\n",
       "    <g>\n",
       "        <path d=\"M19 3H5c-1.1 0-2 .9-2 2v14c0 1.1.9 2 2 2h14c1.1 0 2-.9 2-2V5c0-1.1-.9-2-2-2zM9 17H7v-7h2v7zm4 0h-2V7h2v10zm4 0h-2v-4h2v4z\"/>\n",
       "    </g>\n",
       "</svg>\n",
       "  </button>\n",
       "\n",
       "<style>\n",
       "  .colab-df-quickchart {\n",
       "      --bg-color: #E8F0FE;\n",
       "      --fill-color: #1967D2;\n",
       "      --hover-bg-color: #E2EBFA;\n",
       "      --hover-fill-color: #174EA6;\n",
       "      --disabled-fill-color: #AAA;\n",
       "      --disabled-bg-color: #DDD;\n",
       "  }\n",
       "\n",
       "  [theme=dark] .colab-df-quickchart {\n",
       "      --bg-color: #3B4455;\n",
       "      --fill-color: #D2E3FC;\n",
       "      --hover-bg-color: #434B5C;\n",
       "      --hover-fill-color: #FFFFFF;\n",
       "      --disabled-bg-color: #3B4455;\n",
       "      --disabled-fill-color: #666;\n",
       "  }\n",
       "\n",
       "  .colab-df-quickchart {\n",
       "    background-color: var(--bg-color);\n",
       "    border: none;\n",
       "    border-radius: 50%;\n",
       "    cursor: pointer;\n",
       "    display: none;\n",
       "    fill: var(--fill-color);\n",
       "    height: 32px;\n",
       "    padding: 0;\n",
       "    width: 32px;\n",
       "  }\n",
       "\n",
       "  .colab-df-quickchart:hover {\n",
       "    background-color: var(--hover-bg-color);\n",
       "    box-shadow: 0 1px 2px rgba(60, 64, 67, 0.3), 0 1px 3px 1px rgba(60, 64, 67, 0.15);\n",
       "    fill: var(--button-hover-fill-color);\n",
       "  }\n",
       "\n",
       "  .colab-df-quickchart-complete:disabled,\n",
       "  .colab-df-quickchart-complete:disabled:hover {\n",
       "    background-color: var(--disabled-bg-color);\n",
       "    fill: var(--disabled-fill-color);\n",
       "    box-shadow: none;\n",
       "  }\n",
       "\n",
       "  .colab-df-spinner {\n",
       "    border: 2px solid var(--fill-color);\n",
       "    border-color: transparent;\n",
       "    border-bottom-color: var(--fill-color);\n",
       "    animation:\n",
       "      spin 1s steps(1) infinite;\n",
       "  }\n",
       "\n",
       "  @keyframes spin {\n",
       "    0% {\n",
       "      border-color: transparent;\n",
       "      border-bottom-color: var(--fill-color);\n",
       "      border-left-color: var(--fill-color);\n",
       "    }\n",
       "    20% {\n",
       "      border-color: transparent;\n",
       "      border-left-color: var(--fill-color);\n",
       "      border-top-color: var(--fill-color);\n",
       "    }\n",
       "    30% {\n",
       "      border-color: transparent;\n",
       "      border-left-color: var(--fill-color);\n",
       "      border-top-color: var(--fill-color);\n",
       "      border-right-color: var(--fill-color);\n",
       "    }\n",
       "    40% {\n",
       "      border-color: transparent;\n",
       "      border-right-color: var(--fill-color);\n",
       "      border-top-color: var(--fill-color);\n",
       "    }\n",
       "    60% {\n",
       "      border-color: transparent;\n",
       "      border-right-color: var(--fill-color);\n",
       "    }\n",
       "    80% {\n",
       "      border-color: transparent;\n",
       "      border-right-color: var(--fill-color);\n",
       "      border-bottom-color: var(--fill-color);\n",
       "    }\n",
       "    90% {\n",
       "      border-color: transparent;\n",
       "      border-bottom-color: var(--fill-color);\n",
       "    }\n",
       "  }\n",
       "</style>\n",
       "\n",
       "  <script>\n",
       "    async function quickchart(key) {\n",
       "      const quickchartButtonEl =\n",
       "        document.querySelector('#' + key + ' button');\n",
       "      quickchartButtonEl.disabled = true;  // To prevent multiple clicks.\n",
       "      quickchartButtonEl.classList.add('colab-df-spinner');\n",
       "      try {\n",
       "        const charts = await google.colab.kernel.invokeFunction(\n",
       "            'suggestCharts', [key], {});\n",
       "      } catch (error) {\n",
       "        console.error('Error during call to suggestCharts:', error);\n",
       "      }\n",
       "      quickchartButtonEl.classList.remove('colab-df-spinner');\n",
       "      quickchartButtonEl.classList.add('colab-df-quickchart-complete');\n",
       "    }\n",
       "    (() => {\n",
       "      let quickchartButtonEl =\n",
       "        document.querySelector('#df-4ef6770b-a1b1-4c32-83c4-97c3d665159e button');\n",
       "      quickchartButtonEl.style.display =\n",
       "        google.colab.kernel.accessAllowed ? 'block' : 'none';\n",
       "    })();\n",
       "  </script>\n",
       "</div>\n",
       "\n",
       "  <div id=\"id_33fce662-92b3-4f20-9c59-6b3324ce5fd3\">\n",
       "    <style>\n",
       "      .colab-df-generate {\n",
       "        background-color: #E8F0FE;\n",
       "        border: none;\n",
       "        border-radius: 50%;\n",
       "        cursor: pointer;\n",
       "        display: none;\n",
       "        fill: #1967D2;\n",
       "        height: 32px;\n",
       "        padding: 0 0 0 0;\n",
       "        width: 32px;\n",
       "      }\n",
       "\n",
       "      .colab-df-generate:hover {\n",
       "        background-color: #E2EBFA;\n",
       "        box-shadow: 0px 1px 2px rgba(60, 64, 67, 0.3), 0px 1px 3px 1px rgba(60, 64, 67, 0.15);\n",
       "        fill: #174EA6;\n",
       "      }\n",
       "\n",
       "      [theme=dark] .colab-df-generate {\n",
       "        background-color: #3B4455;\n",
       "        fill: #D2E3FC;\n",
       "      }\n",
       "\n",
       "      [theme=dark] .colab-df-generate:hover {\n",
       "        background-color: #434B5C;\n",
       "        box-shadow: 0px 1px 3px 1px rgba(0, 0, 0, 0.15);\n",
       "        filter: drop-shadow(0px 1px 2px rgba(0, 0, 0, 0.3));\n",
       "        fill: #FFFFFF;\n",
       "      }\n",
       "    </style>\n",
       "    <button class=\"colab-df-generate\" onclick=\"generateWithVariable('df_sample')\"\n",
       "            title=\"Generate code using this dataframe.\"\n",
       "            style=\"display:none;\">\n",
       "\n",
       "  <svg xmlns=\"http://www.w3.org/2000/svg\" height=\"24px\"viewBox=\"0 0 24 24\"\n",
       "       width=\"24px\">\n",
       "    <path d=\"M7,19H8.4L18.45,9,17,7.55,7,17.6ZM5,21V16.75L18.45,3.32a2,2,0,0,1,2.83,0l1.4,1.43a1.91,1.91,0,0,1,.58,1.4,1.91,1.91,0,0,1-.58,1.4L9.25,21ZM18.45,9,17,7.55Zm-12,3A5.31,5.31,0,0,0,4.9,8.1,5.31,5.31,0,0,0,1,6.5,5.31,5.31,0,0,0,4.9,4.9,5.31,5.31,0,0,0,6.5,1,5.31,5.31,0,0,0,8.1,4.9,5.31,5.31,0,0,0,12,6.5,5.46,5.46,0,0,0,6.5,12Z\"/>\n",
       "  </svg>\n",
       "    </button>\n",
       "    <script>\n",
       "      (() => {\n",
       "      const buttonEl =\n",
       "        document.querySelector('#id_33fce662-92b3-4f20-9c59-6b3324ce5fd3 button.colab-df-generate');\n",
       "      buttonEl.style.display =\n",
       "        google.colab.kernel.accessAllowed ? 'block' : 'none';\n",
       "\n",
       "      buttonEl.onclick = () => {\n",
       "        google.colab.notebook.generateWithVariable('df_sample');\n",
       "      }\n",
       "      })();\n",
       "    </script>\n",
       "  </div>\n",
       "\n",
       "    </div>\n",
       "  </div>\n"
      ],
      "text/plain": [
       "                  author                                        clean_title  \\\n",
       "75721     pantsineedthem  a man contorting in midair the seat of his pan...   \n",
       "80184  Child-Connoisseur                                    does this count   \n",
       "19864           Inaerius  this business charges you a fee if you pay by ...   \n",
       "76699        anitachance              hidden homos and how to spot them usa   \n",
       "92991          hey_watti  this pic of london looks like it should be a v...   \n",
       "...                  ...                                                ...   \n",
       "6265             gifs_SS  hands up its a choice watch the dude in the de...   \n",
       "54886   AbsoluteZero1111  they both share an arm sorry for the poor phot...   \n",
       "76820          kingsigma  can you see whats wrong with this bikini astou...   \n",
       "860             alborz27  what happens when you put a speaker in a huge ...   \n",
       "15795             Mesnia                                                  o   \n",
       "\n",
       "        created_utc          domain  hasImage      id  \\\n",
       "75721  1.456696e+09     i.imgur.com      True  485yed   \n",
       "80184  1.550431e+09       i.redd.it      True  arnszc   \n",
       "19864  1.564005e+09       imgur.com      True  cheoxt   \n",
       "76699  1.510846e+09       imgur.com      True  7dd3hs   \n",
       "92991  1.555680e+09       i.redd.it      True  bez2hw   \n",
       "...             ...             ...       ...     ...   \n",
       "6265   1.501448e+09     i.imgur.com      True  6qjuqb   \n",
       "54886  1.563972e+09       i.redd.it      True  ch7nx9   \n",
       "76820  1.492836e+09      archive.is      True  66u7ab   \n",
       "860    1.485814e+09  streamable.com      True  5r3xf1   \n",
       "15795  1.362877e+09       imgur.com      True  19zzpz   \n",
       "\n",
       "                                               image_url  \\\n",
       "75721  https://external-preview.redd.it/9jWNwXeDbomcC...   \n",
       "80184  https://preview.redd.it/9bckiseng6h21.jpg?widt...   \n",
       "19864  https://external-preview.redd.it/21wLmegVt9RZC...   \n",
       "76699  https://external-preview.redd.it/EfabT08QQ1Y-o...   \n",
       "92991  https://preview.redd.it/6etr3pms28t21.jpg?widt...   \n",
       "...                                                  ...   \n",
       "6265   https://external-preview.redd.it/15hr2mjzyG4IC...   \n",
       "54886  https://preview.redd.it/1jivzxb3y8c31.jpg?widt...   \n",
       "76820  https://external-preview.redd.it/zalUNtsBwmjtw...   \n",
       "860    https://external-preview.redd.it/OYbfCIPjzVp8W...   \n",
       "15795  https://external-preview.redd.it/nhtu3xolsg68e...   \n",
       "\n",
       "       linked_submission_id  num_comments  score              subreddit  \\\n",
       "75721                   NaN           9.0     22       photoshopbattles   \n",
       "80184                   NaN           3.0     11  confusing_perspective   \n",
       "19864                   NaN           6.0     15      mildlyinteresting   \n",
       "76699                   NaN          83.0    751      propagandaposters   \n",
       "92991                   NaN        1197.0  77744      mildlyinteresting   \n",
       "...                     ...           ...    ...                    ...   \n",
       "6265                    NaN          20.0      6     subredditsimulator   \n",
       "54886                   NaN           0.0     34  confusing_perspective   \n",
       "76820                   NaN          13.0    188         savedyouaclick   \n",
       "860                     NaN           1.0     31         savedyouaclick   \n",
       "15795                   NaN           1.0    158             pareidolia   \n",
       "\n",
       "                                                   title  upvote_ratio  \\\n",
       "75721  PsBattle: a man contorting in mid-air, the sea...          0.69   \n",
       "80184                                   Does this count?          0.64   \n",
       "19864  This business charges you a fee if you pay by ...          0.87   \n",
       "76699     “Hidden Homos and How to Spot Them!” USA, 1962          0.97   \n",
       "92991  This pic of London looks like it should be a v...          0.92   \n",
       "...                                                  ...           ...   \n",
       "6265   Hands up, its a choice ! Watch the dude in the...          0.75   \n",
       "54886  They both share an arm. (Sorry for the poor ph...          0.88   \n",
       "76820  Can YOU see what’s wrong with this bikini? Ast...          0.93   \n",
       "860    What Happens When You Put A Speaker In A Huge ...          0.84   \n",
       "15795                                                 :o          0.93   \n",
       "\n",
       "       2_way_label  3_way_label  6_way_label  \\\n",
       "75721            1            0            0   \n",
       "80184            0            2            2   \n",
       "19864            1            0            0   \n",
       "76699            0            1            5   \n",
       "92991            1            0            0   \n",
       "...            ...          ...          ...   \n",
       "6265             0            2            3   \n",
       "54886            0            2            2   \n",
       "76820            0            2            5   \n",
       "860              0            2            5   \n",
       "15795            0            2            2   \n",
       "\n",
       "                                           title_cleaned  sentiment_score  \n",
       "75721            man contorting midair seat pants midrib         0.000000  \n",
       "80184                                              count         0.000000  \n",
       "19864          business charges fee pay cash rather card         0.000000  \n",
       "76699                              hidden homos spot usa        -0.166667  \n",
       "92991                        pic london looks like video         0.000000  \n",
       "...                                                  ...              ...  \n",
       "6265           hands choice watch dude degree corner sun         0.000000  \n",
       "54886                 share arm sorry poor photo quality        -0.450000  \n",
       "76820  see wrong bikini astounding secret behind woma...        -0.140000  \n",
       "860         happens put speaker huge vacuum chamber hear         0.195833  \n",
       "15795                                                            0.000000  \n",
       "\n",
       "[100000 rows x 18 columns]"
      ]
     },
     "execution_count": 33,
     "metadata": {},
     "output_type": "execute_result"
    }
   ],
   "source": [
    "df_sample"
   ]
  },
  {
   "cell_type": "markdown",
   "metadata": {
    "id": "cfJDTMSgr842"
   },
   "source": [
    "## 5. Emotion Analysis of Comments"
   ]
  },
  {
   "cell_type": "code",
   "execution_count": null,
   "metadata": {
    "id": "AyNcvqy7RL-I"
   },
   "outputs": [],
   "source": [
    "# Novelty group: emotions of fear, disgust, and surprise (we also include anger in this group, as it was presumably intended​).\n",
    "# Expectation group: emotions of anticipation, sadness, joy, and trust​\n",
    "# Neutral group: applies if the comment’s emotions are balanced (i.e., the summed scores for novelty vs. expectation emotions are equal)​"
   ]
  },
  {
   "cell_type": "code",
   "execution_count": null,
   "metadata": {
    "executionInfo": {
     "elapsed": 66,
     "status": "ok",
     "timestamp": 1742957460776,
     "user": {
      "displayName": "Xin Yan",
      "userId": "08308894215731508440"
     },
     "user_tz": 240
    },
    "id": "VGthILnWsJIB"
   },
   "outputs": [],
   "source": [
    "from nrclex import NRCLex\n",
    "\n",
    "# Classify a single comment into Novelty / Expectation / Neutral\n",
    "def classify_comment_emotion(comment_text: str) -> str:\n",
    "    text = clean_text(comment_text)\n",
    "    if not text:\n",
    "        return \"neutral\" \n",
    "    emotion = NRCLex(text)\n",
    "    scores = emotion.raw_emotion_scores  \n",
    "\n",
    "    novelty_score = scores.get('anger', 0) + scores.get('fear', 0) + scores.get('disgust', 0) + scores.get('surprise', 0)\n",
    "    expect_score = scores.get('anticipation', 0) + scores.get('sadness', 0) + scores.get('joy', 0) + scores.get('trust', 0)\n",
    "\n",
    "    if novelty_score > expect_score:\n",
    "        return \"novelty\"\n",
    "    elif expect_score > novelty_score:\n",
    "        return \"expectation\"\n",
    "    else:\n",
    "        return \"neutral\""
   ]
  },
  {
   "cell_type": "code",
   "execution_count": null,
   "metadata": {
    "colab": {
     "base_uri": "https://localhost:8080/"
    },
    "executionInfo": {
     "elapsed": 7324,
     "status": "ok",
     "timestamp": 1742957472041,
     "user": {
      "displayName": "Xin Yan",
      "userId": "08308894215731508440"
     },
     "user_tz": 240
    },
    "id": "TVsJ1T3NsJPH",
    "outputId": "4616acc3-f373-4fdb-bba7-e647a81ce248"
   },
   "outputs": [
    {
     "name": "stdout",
     "output_type": "stream",
     "text": [
      "Sample Comments for filtered posts: 1627529\n"
     ]
    }
   ],
   "source": [
    "df_comments_sample = df_comments[df_comments['submission_id'].isin(df_sample['id'])].copy()\n",
    "print(\"Sample Comments for filtered posts:\", len(df_comments_sample))"
   ]
  },
  {
   "cell_type": "code",
   "execution_count": 36,
   "metadata": {
    "colab": {
     "base_uri": "https://localhost:8080/",
     "height": 424
    },
    "executionInfo": {
     "elapsed": 73,
     "status": "ok",
     "timestamp": 1742957477052,
     "user": {
      "displayName": "Xin Yan",
      "userId": "08308894215731508440"
     },
     "user_tz": 240
    },
    "id": "uRoTSblysaou",
    "outputId": "591e6082-e6b1-4292-8e84-9b7c9b35a7fc"
   },
   "outputs": [
    {
     "data": {
      "application/vnd.google.colaboratory.intrinsic+json": {
       "type": "dataframe",
       "variable_name": "df_comments_sample"
      },
      "text/html": [
       "\n",
       "  <div id=\"df-45943fcd-7943-4ec1-a38e-181da61a5668\" class=\"colab-df-container\">\n",
       "    <div>\n",
       "<style scoped>\n",
       "    .dataframe tbody tr th:only-of-type {\n",
       "        vertical-align: middle;\n",
       "    }\n",
       "\n",
       "    .dataframe tbody tr th {\n",
       "        vertical-align: top;\n",
       "    }\n",
       "\n",
       "    .dataframe thead th {\n",
       "        text-align: right;\n",
       "    }\n",
       "</style>\n",
       "<table border=\"1\" class=\"dataframe\">\n",
       "  <thead>\n",
       "    <tr style=\"text-align: right;\">\n",
       "      <th></th>\n",
       "      <th>Unnamed: 0</th>\n",
       "      <th>id</th>\n",
       "      <th>author</th>\n",
       "      <th>body</th>\n",
       "      <th>isTopLevel</th>\n",
       "      <th>parent_id</th>\n",
       "      <th>submission_id</th>\n",
       "      <th>ups</th>\n",
       "    </tr>\n",
       "  </thead>\n",
       "  <tbody>\n",
       "    <tr>\n",
       "      <th>24401</th>\n",
       "      <td>25446</td>\n",
       "      <td>f3oi6l9</td>\n",
       "      <td>EPICJAYSON12</td>\n",
       "      <td>This is a very wholesome gif</td>\n",
       "      <td>True</td>\n",
       "      <td>t3_dhiuq5</td>\n",
       "      <td>dhiuq5</td>\n",
       "      <td>1.0</td>\n",
       "    </tr>\n",
       "    <tr>\n",
       "      <th>24402</th>\n",
       "      <td>25447</td>\n",
       "      <td>f3vd0i0</td>\n",
       "      <td>cpcallen</td>\n",
       "      <td>I love the fact that the title describes both ...</td>\n",
       "      <td>True</td>\n",
       "      <td>t3_dhiuq5</td>\n",
       "      <td>dhiuq5</td>\n",
       "      <td>1.0</td>\n",
       "    </tr>\n",
       "    <tr>\n",
       "      <th>24534</th>\n",
       "      <td>25579</td>\n",
       "      <td>f3etn1u</td>\n",
       "      <td>KingOrion77</td>\n",
       "      <td>Who use the term “Stroking my dog”?</td>\n",
       "      <td>True</td>\n",
       "      <td>t3_dgs5id</td>\n",
       "      <td>dgs5id</td>\n",
       "      <td>55.0</td>\n",
       "    </tr>\n",
       "    <tr>\n",
       "      <th>24535</th>\n",
       "      <td>25580</td>\n",
       "      <td>f3ess08</td>\n",
       "      <td>Pototsky</td>\n",
       "      <td>It is in us and around us. This whole place is...</td>\n",
       "      <td>True</td>\n",
       "      <td>t3_dgs5id</td>\n",
       "      <td>dgs5id</td>\n",
       "      <td>15.0</td>\n",
       "    </tr>\n",
       "    <tr>\n",
       "      <th>24536</th>\n",
       "      <td>25581</td>\n",
       "      <td>f3f5lmk</td>\n",
       "      <td>davidforslunds</td>\n",
       "      <td>*Uzumaki intensifies*</td>\n",
       "      <td>True</td>\n",
       "      <td>t3_dgs5id</td>\n",
       "      <td>dgs5id</td>\n",
       "      <td>9.0</td>\n",
       "    </tr>\n",
       "    <tr>\n",
       "      <th>...</th>\n",
       "      <td>...</td>\n",
       "      <td>...</td>\n",
       "      <td>...</td>\n",
       "      <td>...</td>\n",
       "      <td>...</td>\n",
       "      <td>...</td>\n",
       "      <td>...</td>\n",
       "      <td>...</td>\n",
       "    </tr>\n",
       "    <tr>\n",
       "      <th>10697507</th>\n",
       "      <td>10601559</td>\n",
       "      <td>c4qqpz9</td>\n",
       "      <td>Jakuu21</td>\n",
       "      <td>This type of impact people choose to have on e...</td>\n",
       "      <td>True</td>\n",
       "      <td>t3_ty2wq</td>\n",
       "      <td>ty2wq</td>\n",
       "      <td>3.0</td>\n",
       "    </tr>\n",
       "    <tr>\n",
       "      <th>10697508</th>\n",
       "      <td>10601560</td>\n",
       "      <td>c4qr9f7</td>\n",
       "      <td>mcknazzy</td>\n",
       "      <td>I'm bawlin ovah heah!</td>\n",
       "      <td>True</td>\n",
       "      <td>t3_ty2wq</td>\n",
       "      <td>ty2wq</td>\n",
       "      <td>3.0</td>\n",
       "    </tr>\n",
       "    <tr>\n",
       "      <th>10697509</th>\n",
       "      <td>10601561</td>\n",
       "      <td>c4qv43z</td>\n",
       "      <td>cinza</td>\n",
       "      <td>Doesn't it look a bit fake? I mean, there was ...</td>\n",
       "      <td>True</td>\n",
       "      <td>t3_ty2wq</td>\n",
       "      <td>ty2wq</td>\n",
       "      <td>1.0</td>\n",
       "    </tr>\n",
       "    <tr>\n",
       "      <th>10697510</th>\n",
       "      <td>10601562</td>\n",
       "      <td>c4r0kt0</td>\n",
       "      <td>razorsheldon</td>\n",
       "      <td>I don't think anybody could fake his reaction ...</td>\n",
       "      <td>False</td>\n",
       "      <td>t1_c4qv43z</td>\n",
       "      <td>ty2wq</td>\n",
       "      <td>2.0</td>\n",
       "    </tr>\n",
       "    <tr>\n",
       "      <th>10697511</th>\n",
       "      <td>10601563</td>\n",
       "      <td>c4r56ej</td>\n",
       "      <td>cinza</td>\n",
       "      <td>Yeah, this is the part I almost cried. hah</td>\n",
       "      <td>False</td>\n",
       "      <td>t1_c4r0kt0</td>\n",
       "      <td>ty2wq</td>\n",
       "      <td>2.0</td>\n",
       "    </tr>\n",
       "  </tbody>\n",
       "</table>\n",
       "<p>1627529 rows × 8 columns</p>\n",
       "</div>\n",
       "    <div class=\"colab-df-buttons\">\n",
       "\n",
       "  <div class=\"colab-df-container\">\n",
       "    <button class=\"colab-df-convert\" onclick=\"convertToInteractive('df-45943fcd-7943-4ec1-a38e-181da61a5668')\"\n",
       "            title=\"Convert this dataframe to an interactive table.\"\n",
       "            style=\"display:none;\">\n",
       "\n",
       "  <svg xmlns=\"http://www.w3.org/2000/svg\" height=\"24px\" viewBox=\"0 -960 960 960\">\n",
       "    <path d=\"M120-120v-720h720v720H120Zm60-500h600v-160H180v160Zm220 220h160v-160H400v160Zm0 220h160v-160H400v160ZM180-400h160v-160H180v160Zm440 0h160v-160H620v160ZM180-180h160v-160H180v160Zm440 0h160v-160H620v160Z\"/>\n",
       "  </svg>\n",
       "    </button>\n",
       "\n",
       "  <style>\n",
       "    .colab-df-container {\n",
       "      display:flex;\n",
       "      gap: 12px;\n",
       "    }\n",
       "\n",
       "    .colab-df-convert {\n",
       "      background-color: #E8F0FE;\n",
       "      border: none;\n",
       "      border-radius: 50%;\n",
       "      cursor: pointer;\n",
       "      display: none;\n",
       "      fill: #1967D2;\n",
       "      height: 32px;\n",
       "      padding: 0 0 0 0;\n",
       "      width: 32px;\n",
       "    }\n",
       "\n",
       "    .colab-df-convert:hover {\n",
       "      background-color: #E2EBFA;\n",
       "      box-shadow: 0px 1px 2px rgba(60, 64, 67, 0.3), 0px 1px 3px 1px rgba(60, 64, 67, 0.15);\n",
       "      fill: #174EA6;\n",
       "    }\n",
       "\n",
       "    .colab-df-buttons div {\n",
       "      margin-bottom: 4px;\n",
       "    }\n",
       "\n",
       "    [theme=dark] .colab-df-convert {\n",
       "      background-color: #3B4455;\n",
       "      fill: #D2E3FC;\n",
       "    }\n",
       "\n",
       "    [theme=dark] .colab-df-convert:hover {\n",
       "      background-color: #434B5C;\n",
       "      box-shadow: 0px 1px 3px 1px rgba(0, 0, 0, 0.15);\n",
       "      filter: drop-shadow(0px 1px 2px rgba(0, 0, 0, 0.3));\n",
       "      fill: #FFFFFF;\n",
       "    }\n",
       "  </style>\n",
       "\n",
       "    <script>\n",
       "      const buttonEl =\n",
       "        document.querySelector('#df-45943fcd-7943-4ec1-a38e-181da61a5668 button.colab-df-convert');\n",
       "      buttonEl.style.display =\n",
       "        google.colab.kernel.accessAllowed ? 'block' : 'none';\n",
       "\n",
       "      async function convertToInteractive(key) {\n",
       "        const element = document.querySelector('#df-45943fcd-7943-4ec1-a38e-181da61a5668');\n",
       "        const dataTable =\n",
       "          await google.colab.kernel.invokeFunction('convertToInteractive',\n",
       "                                                    [key], {});\n",
       "        if (!dataTable) return;\n",
       "\n",
       "        const docLinkHtml = 'Like what you see? Visit the ' +\n",
       "          '<a target=\"_blank\" href=https://colab.research.google.com/notebooks/data_table.ipynb>data table notebook</a>'\n",
       "          + ' to learn more about interactive tables.';\n",
       "        element.innerHTML = '';\n",
       "        dataTable['output_type'] = 'display_data';\n",
       "        await google.colab.output.renderOutput(dataTable, element);\n",
       "        const docLink = document.createElement('div');\n",
       "        docLink.innerHTML = docLinkHtml;\n",
       "        element.appendChild(docLink);\n",
       "      }\n",
       "    </script>\n",
       "  </div>\n",
       "\n",
       "\n",
       "<div id=\"df-72c5be49-517d-4e2d-b1c6-68b3d43c16f7\">\n",
       "  <button class=\"colab-df-quickchart\" onclick=\"quickchart('df-72c5be49-517d-4e2d-b1c6-68b3d43c16f7')\"\n",
       "            title=\"Suggest charts\"\n",
       "            style=\"display:none;\">\n",
       "\n",
       "<svg xmlns=\"http://www.w3.org/2000/svg\" height=\"24px\"viewBox=\"0 0 24 24\"\n",
       "     width=\"24px\">\n",
       "    <g>\n",
       "        <path d=\"M19 3H5c-1.1 0-2 .9-2 2v14c0 1.1.9 2 2 2h14c1.1 0 2-.9 2-2V5c0-1.1-.9-2-2-2zM9 17H7v-7h2v7zm4 0h-2V7h2v10zm4 0h-2v-4h2v4z\"/>\n",
       "    </g>\n",
       "</svg>\n",
       "  </button>\n",
       "\n",
       "<style>\n",
       "  .colab-df-quickchart {\n",
       "      --bg-color: #E8F0FE;\n",
       "      --fill-color: #1967D2;\n",
       "      --hover-bg-color: #E2EBFA;\n",
       "      --hover-fill-color: #174EA6;\n",
       "      --disabled-fill-color: #AAA;\n",
       "      --disabled-bg-color: #DDD;\n",
       "  }\n",
       "\n",
       "  [theme=dark] .colab-df-quickchart {\n",
       "      --bg-color: #3B4455;\n",
       "      --fill-color: #D2E3FC;\n",
       "      --hover-bg-color: #434B5C;\n",
       "      --hover-fill-color: #FFFFFF;\n",
       "      --disabled-bg-color: #3B4455;\n",
       "      --disabled-fill-color: #666;\n",
       "  }\n",
       "\n",
       "  .colab-df-quickchart {\n",
       "    background-color: var(--bg-color);\n",
       "    border: none;\n",
       "    border-radius: 50%;\n",
       "    cursor: pointer;\n",
       "    display: none;\n",
       "    fill: var(--fill-color);\n",
       "    height: 32px;\n",
       "    padding: 0;\n",
       "    width: 32px;\n",
       "  }\n",
       "\n",
       "  .colab-df-quickchart:hover {\n",
       "    background-color: var(--hover-bg-color);\n",
       "    box-shadow: 0 1px 2px rgba(60, 64, 67, 0.3), 0 1px 3px 1px rgba(60, 64, 67, 0.15);\n",
       "    fill: var(--button-hover-fill-color);\n",
       "  }\n",
       "\n",
       "  .colab-df-quickchart-complete:disabled,\n",
       "  .colab-df-quickchart-complete:disabled:hover {\n",
       "    background-color: var(--disabled-bg-color);\n",
       "    fill: var(--disabled-fill-color);\n",
       "    box-shadow: none;\n",
       "  }\n",
       "\n",
       "  .colab-df-spinner {\n",
       "    border: 2px solid var(--fill-color);\n",
       "    border-color: transparent;\n",
       "    border-bottom-color: var(--fill-color);\n",
       "    animation:\n",
       "      spin 1s steps(1) infinite;\n",
       "  }\n",
       "\n",
       "  @keyframes spin {\n",
       "    0% {\n",
       "      border-color: transparent;\n",
       "      border-bottom-color: var(--fill-color);\n",
       "      border-left-color: var(--fill-color);\n",
       "    }\n",
       "    20% {\n",
       "      border-color: transparent;\n",
       "      border-left-color: var(--fill-color);\n",
       "      border-top-color: var(--fill-color);\n",
       "    }\n",
       "    30% {\n",
       "      border-color: transparent;\n",
       "      border-left-color: var(--fill-color);\n",
       "      border-top-color: var(--fill-color);\n",
       "      border-right-color: var(--fill-color);\n",
       "    }\n",
       "    40% {\n",
       "      border-color: transparent;\n",
       "      border-right-color: var(--fill-color);\n",
       "      border-top-color: var(--fill-color);\n",
       "    }\n",
       "    60% {\n",
       "      border-color: transparent;\n",
       "      border-right-color: var(--fill-color);\n",
       "    }\n",
       "    80% {\n",
       "      border-color: transparent;\n",
       "      border-right-color: var(--fill-color);\n",
       "      border-bottom-color: var(--fill-color);\n",
       "    }\n",
       "    90% {\n",
       "      border-color: transparent;\n",
       "      border-bottom-color: var(--fill-color);\n",
       "    }\n",
       "  }\n",
       "</style>\n",
       "\n",
       "  <script>\n",
       "    async function quickchart(key) {\n",
       "      const quickchartButtonEl =\n",
       "        document.querySelector('#' + key + ' button');\n",
       "      quickchartButtonEl.disabled = true;  // To prevent multiple clicks.\n",
       "      quickchartButtonEl.classList.add('colab-df-spinner');\n",
       "      try {\n",
       "        const charts = await google.colab.kernel.invokeFunction(\n",
       "            'suggestCharts', [key], {});\n",
       "      } catch (error) {\n",
       "        console.error('Error during call to suggestCharts:', error);\n",
       "      }\n",
       "      quickchartButtonEl.classList.remove('colab-df-spinner');\n",
       "      quickchartButtonEl.classList.add('colab-df-quickchart-complete');\n",
       "    }\n",
       "    (() => {\n",
       "      let quickchartButtonEl =\n",
       "        document.querySelector('#df-72c5be49-517d-4e2d-b1c6-68b3d43c16f7 button');\n",
       "      quickchartButtonEl.style.display =\n",
       "        google.colab.kernel.accessAllowed ? 'block' : 'none';\n",
       "    })();\n",
       "  </script>\n",
       "</div>\n",
       "\n",
       "  <div id=\"id_1d8745aa-cc7b-4eb3-a8a4-2b27d477fbb5\">\n",
       "    <style>\n",
       "      .colab-df-generate {\n",
       "        background-color: #E8F0FE;\n",
       "        border: none;\n",
       "        border-radius: 50%;\n",
       "        cursor: pointer;\n",
       "        display: none;\n",
       "        fill: #1967D2;\n",
       "        height: 32px;\n",
       "        padding: 0 0 0 0;\n",
       "        width: 32px;\n",
       "      }\n",
       "\n",
       "      .colab-df-generate:hover {\n",
       "        background-color: #E2EBFA;\n",
       "        box-shadow: 0px 1px 2px rgba(60, 64, 67, 0.3), 0px 1px 3px 1px rgba(60, 64, 67, 0.15);\n",
       "        fill: #174EA6;\n",
       "      }\n",
       "\n",
       "      [theme=dark] .colab-df-generate {\n",
       "        background-color: #3B4455;\n",
       "        fill: #D2E3FC;\n",
       "      }\n",
       "\n",
       "      [theme=dark] .colab-df-generate:hover {\n",
       "        background-color: #434B5C;\n",
       "        box-shadow: 0px 1px 3px 1px rgba(0, 0, 0, 0.15);\n",
       "        filter: drop-shadow(0px 1px 2px rgba(0, 0, 0, 0.3));\n",
       "        fill: #FFFFFF;\n",
       "      }\n",
       "    </style>\n",
       "    <button class=\"colab-df-generate\" onclick=\"generateWithVariable('df_comments_sample')\"\n",
       "            title=\"Generate code using this dataframe.\"\n",
       "            style=\"display:none;\">\n",
       "\n",
       "  <svg xmlns=\"http://www.w3.org/2000/svg\" height=\"24px\"viewBox=\"0 0 24 24\"\n",
       "       width=\"24px\">\n",
       "    <path d=\"M7,19H8.4L18.45,9,17,7.55,7,17.6ZM5,21V16.75L18.45,3.32a2,2,0,0,1,2.83,0l1.4,1.43a1.91,1.91,0,0,1,.58,1.4,1.91,1.91,0,0,1-.58,1.4L9.25,21ZM18.45,9,17,7.55Zm-12,3A5.31,5.31,0,0,0,4.9,8.1,5.31,5.31,0,0,0,1,6.5,5.31,5.31,0,0,0,4.9,4.9,5.31,5.31,0,0,0,6.5,1,5.31,5.31,0,0,0,8.1,4.9,5.31,5.31,0,0,0,12,6.5,5.46,5.46,0,0,0,6.5,12Z\"/>\n",
       "  </svg>\n",
       "    </button>\n",
       "    <script>\n",
       "      (() => {\n",
       "      const buttonEl =\n",
       "        document.querySelector('#id_1d8745aa-cc7b-4eb3-a8a4-2b27d477fbb5 button.colab-df-generate');\n",
       "      buttonEl.style.display =\n",
       "        google.colab.kernel.accessAllowed ? 'block' : 'none';\n",
       "\n",
       "      buttonEl.onclick = () => {\n",
       "        google.colab.notebook.generateWithVariable('df_comments_sample');\n",
       "      }\n",
       "      })();\n",
       "    </script>\n",
       "  </div>\n",
       "\n",
       "    </div>\n",
       "  </div>\n"
      ],
      "text/plain": [
       "         Unnamed: 0       id          author  \\\n",
       "24401         25446  f3oi6l9    EPICJAYSON12   \n",
       "24402         25447  f3vd0i0        cpcallen   \n",
       "24534         25579  f3etn1u     KingOrion77   \n",
       "24535         25580  f3ess08        Pototsky   \n",
       "24536         25581  f3f5lmk  davidforslunds   \n",
       "...             ...      ...             ...   \n",
       "10697507   10601559  c4qqpz9         Jakuu21   \n",
       "10697508   10601560  c4qr9f7        mcknazzy   \n",
       "10697509   10601561  c4qv43z           cinza   \n",
       "10697510   10601562  c4r0kt0    razorsheldon   \n",
       "10697511   10601563  c4r56ej           cinza   \n",
       "\n",
       "                                                       body isTopLevel  \\\n",
       "24401                          This is a very wholesome gif       True   \n",
       "24402     I love the fact that the title describes both ...       True   \n",
       "24534                   Who use the term “Stroking my dog”?       True   \n",
       "24535     It is in us and around us. This whole place is...       True   \n",
       "24536                                 *Uzumaki intensifies*       True   \n",
       "...                                                     ...        ...   \n",
       "10697507  This type of impact people choose to have on e...       True   \n",
       "10697508                              I'm bawlin ovah heah!       True   \n",
       "10697509  Doesn't it look a bit fake? I mean, there was ...       True   \n",
       "10697510  I don't think anybody could fake his reaction ...      False   \n",
       "10697511         Yeah, this is the part I almost cried. hah      False   \n",
       "\n",
       "           parent_id submission_id   ups  \n",
       "24401      t3_dhiuq5        dhiuq5   1.0  \n",
       "24402      t3_dhiuq5        dhiuq5   1.0  \n",
       "24534      t3_dgs5id        dgs5id  55.0  \n",
       "24535      t3_dgs5id        dgs5id  15.0  \n",
       "24536      t3_dgs5id        dgs5id   9.0  \n",
       "...              ...           ...   ...  \n",
       "10697507    t3_ty2wq         ty2wq   3.0  \n",
       "10697508    t3_ty2wq         ty2wq   3.0  \n",
       "10697509    t3_ty2wq         ty2wq   1.0  \n",
       "10697510  t1_c4qv43z         ty2wq   2.0  \n",
       "10697511  t1_c4r0kt0         ty2wq   2.0  \n",
       "\n",
       "[1627529 rows x 8 columns]"
      ]
     },
     "execution_count": 36,
     "metadata": {},
     "output_type": "execute_result"
    }
   ],
   "source": [
    "df_comments_sample"
   ]
  },
  {
   "cell_type": "code",
   "execution_count": null,
   "metadata": {
    "colab": {
     "base_uri": "https://localhost:8080/"
    },
    "executionInfo": {
     "elapsed": 32,
     "status": "ok",
     "timestamp": 1742957480913,
     "user": {
      "displayName": "Xin Yan",
      "userId": "08308894215731508440"
     },
     "user_tz": 240
    },
    "id": "0sGUkdIcsavS",
    "outputId": "bc4ce258-9a33-4e4c-8235-27145c2d8662"
   },
   "outputs": [
    {
     "name": "stdout",
     "output_type": "stream",
     "text": [
      "Original: I'm from KY, and just happy to see a nice stor\n",
      "Cleaned:  i am from ky and just happy to see a nice stor\n"
     ]
    }
   ],
   "source": [
    "import re\n",
    "import string\n",
    "from unidecode import unidecode\n",
    "import emoji\n",
    "import contractions\n",
    "import pandas as pd\n",
    "from joblib import Parallel, delayed\n",
    "import time\n",
    "\n",
    "punct_to_keep = \"!?\"\n",
    "html_pattern = re.compile(r'<.*?>')\n",
    "url_pattern = re.compile(r'http\\S+|www\\.\\S+')\n",
    "special_char_pattern = re.compile(f\"[^{re.escape(string.ascii_letters + string.digits + string.whitespace + punct_to_keep)}]\")\n",
    "whitespace_pattern = re.compile(r'\\s+')\n",
    "\n",
    "def clean_text_comment(text) -> str:\n",
    "    if not isinstance(text, str):\n",
    "        text = str(text) if text is not None else \"\"\n",
    "    text = text.lower()\n",
    "    text = html_pattern.sub(' ', text)\n",
    "    text = url_pattern.sub(' ', text)\n",
    "    text = contractions.fix(text)\n",
    "    text = emoji.demojize(text, delimiters=(\" \", \" \"))\n",
    "    text = unidecode(text)\n",
    "    text = text.replace(\":\", \" \").replace(\"_\", \" \")\n",
    "    text = special_char_pattern.sub(' ', text)\n",
    "    text = whitespace_pattern.sub(' ', text).strip()\n",
    "    return text\n",
    "\n",
    "def parallel_clean(df, column_name):\n",
    "    return Parallel(n_jobs=-1)(delayed(clean_text_comment)(text) for text in df[column_name])\n",
    "\n",
    "test = \"I'm from KY, and just happy to see a nice stor\"\n",
    "print(\"Original:\", test)\n",
    "print(\"Cleaned: \", clean_text_comment(test))"
   ]
  },
  {
   "cell_type": "code",
   "execution_count": 38,
   "metadata": {
    "colab": {
     "base_uri": "https://localhost:8080/"
    },
    "executionInfo": {
     "elapsed": 287392,
     "status": "ok",
     "timestamp": 1742957774322,
     "user": {
      "displayName": "Xin Yan",
      "userId": "08308894215731508440"
     },
     "user_tz": 240
    },
    "id": "uQZGfPeCwLrI",
    "outputId": "346c9aa2-d026-41ae-d32b-aee20d077c92"
   },
   "outputs": [
    {
     "name": "stdout",
     "output_type": "stream",
     "text": [
      "Cleaning took 287.25 seconds\n",
      "      Unnamed: 0       id          author  \\\n",
      "24401      25446  f3oi6l9    EPICJAYSON12   \n",
      "24402      25447  f3vd0i0        cpcallen   \n",
      "24534      25579  f3etn1u     KingOrion77   \n",
      "24535      25580  f3ess08        Pototsky   \n",
      "24536      25581  f3f5lmk  davidforslunds   \n",
      "\n",
      "                                                    body isTopLevel  \\\n",
      "24401                       This is a very wholesome gif       True   \n",
      "24402  I love the fact that the title describes both ...       True   \n",
      "24534                Who use the term “Stroking my dog”?       True   \n",
      "24535  It is in us and around us. This whole place is...       True   \n",
      "24536                              *Uzumaki intensifies*       True   \n",
      "\n",
      "       parent_id submission_id   ups  \\\n",
      "24401  t3_dhiuq5        dhiuq5   1.0   \n",
      "24402  t3_dhiuq5        dhiuq5   1.0   \n",
      "24534  t3_dgs5id        dgs5id  55.0   \n",
      "24535  t3_dgs5id        dgs5id  15.0   \n",
      "24536  t3_dgs5id        dgs5id   9.0   \n",
      "\n",
      "                                                 comment  \n",
      "24401                       this is a very wholesome gif  \n",
      "24402  i love the fact that the title describes both ...  \n",
      "24534                 who use the term stroking my dog ?  \n",
      "24535  it is in us and around us this whole place is ...  \n",
      "24536                                uzumaki intensifies  \n"
     ]
    }
   ],
   "source": [
    "start_time = time.time()\n",
    "\n",
    "df_comments_sample['body'] = df_comments_sample['body'].astype(str).fillna('')\n",
    "\n",
    "df_comments_sample['comment'] = parallel_clean(df_comments_sample, 'body')\n",
    "\n",
    "end_time = time.time()\n",
    "print(f\"Cleaning took {end_time - start_time:.2f} seconds\")\n",
    "\n",
    "print(df_comments_sample.head())"
   ]
  },
  {
   "cell_type": "code",
   "execution_count": 39,
   "metadata": {
    "executionInfo": {
     "elapsed": 34,
     "status": "ok",
     "timestamp": 1742957859685,
     "user": {
      "displayName": "Xin Yan",
      "userId": "08308894215731508440"
     },
     "user_tz": 240
    },
    "id": "0kkhjoV8wL0B"
   },
   "outputs": [],
   "source": [
    "from joblib import Parallel, delayed\n",
    "from tqdm import tqdm\n",
    "import time\n",
    "\n",
    "# parallel\n",
    "def parallel_classify(df, column_name):\n",
    "    # process\n",
    "    results = Parallel(n_jobs=-1, backend='loky')(\n",
    "        delayed(classify_comment_emotion)(text) for text in tqdm(df[column_name], desc=\"Classifying emotions\")\n",
    "    )\n",
    "    return results"
   ]
  },
  {
   "cell_type": "code",
   "execution_count": 40,
   "metadata": {
    "colab": {
     "base_uri": "https://localhost:8080/"
    },
    "executionInfo": {
     "elapsed": 312,
     "status": "ok",
     "timestamp": 1742957861853,
     "user": {
      "displayName": "Xin Yan",
      "userId": "08308894215731508440"
     },
     "user_tz": 240
    },
    "id": "-V06iTUo25Vd",
    "outputId": "831c4062-154d-4d29-d7b7-6b0023826443"
   },
   "outputs": [
    {
     "data": {
      "text/plain": [
       "True"
      ]
     },
     "execution_count": 40,
     "metadata": {},
     "output_type": "execute_result"
    }
   ],
   "source": [
    "import nltk\n",
    "\n",
    "nltk.download('punkt_tab', quiet=True)"
   ]
  },
  {
   "cell_type": "code",
   "execution_count": null,
   "metadata": {},
   "outputs": [],
   "source": [
    "## Time comsuming problem, If you are good at optimizing, please optimize it.\n",
    "from nrclex import NRCLex\n",
    "\n",
    "# Classify a single comment into Novelty / Expectation / Neutral\n",
    "def classify_comment_emotion(comment_text: str) -> str:\n",
    "    text = clean_text(comment_text)\n",
    "    if not text:\n",
    "        return \"neutral\" \n",
    "    emotion = NRCLex(text)\n",
    "    scores = emotion.raw_emotion_scores  \n",
    "\n",
    "    novelty_score = scores.get('anger', 0) + scores.get('fear', 0) + scores.get('disgust', 0) + scores.get('surprise', 0)\n",
    "    expect_score = scores.get('anticipation', 0) + scores.get('sadness', 0) + scores.get('joy', 0) + scores.get('trust', 0)\n",
    "\n",
    "    if novelty_score > expect_score:\n",
    "        return \"novelty\"\n",
    "    elif expect_score > novelty_score:\n",
    "        return \"expectation\"\n",
    "    else:\n",
    "        return \"neutral\"\n",
    "    \n",
    "from joblib import Parallel, delayed\n",
    "from tqdm import tqdm\n",
    "import time\n",
    "\n",
    "# parallel\n",
    "def parallel_classify(df, column_name):\n",
    "    # process\n",
    "    results = Parallel(n_jobs=-1, backend='loky')(\n",
    "        delayed(classify_comment_emotion)(text) for text in tqdm(df[column_name], desc=\"Classifying emotions\")\n",
    "    )\n",
    "    return results\n",
    "\n",
    "# over 100 hours in 4 kernel CPU\n",
    "start = time.time()\n",
    "df_comments_sample['emotion_group'] = parallel_classify(df_comments_sample, 'comment')\n",
    "print(f\"Time for 100k rows: {time.time() - start:.2f} seconds\")"
   ]
  },
  {
   "cell_type": "code",
   "execution_count": null,
   "metadata": {
    "colab": {
     "base_uri": "https://localhost:8080/",
     "height": 373
    },
    "executionInfo": {
     "elapsed": 107893,
     "status": "error",
     "timestamp": 1742957979958,
     "user": {
      "displayName": "Xin Yan",
      "userId": "08308894215731508440"
     },
     "user_tz": 240
    },
    "id": "igMLJls-2G8x",
    "outputId": "e03f2f96-2e7b-4230-ff24-2f77249c5777"
   },
   "outputs": [
    {
     "name": "stderr",
     "output_type": "stream",
     "text": [
      "Classifying emotions:   0%|          | 262/1627529 [01:45<174:51:32,  2.59it/s]"
     ]
    },
    {
     "ename": "KeyboardInterrupt",
     "evalue": "",
     "output_type": "error",
     "traceback": [
      "\u001b[0;31m---------------------------------------------------------------------------\u001b[0m",
      "\u001b[0;31mKeyboardInterrupt\u001b[0m                         Traceback (most recent call last)",
      "\u001b[0;32m<ipython-input-41-b09e14bedc16>\u001b[0m in \u001b[0;36m<cell line: 0>\u001b[0;34m()\u001b[0m\n\u001b[1;32m      1\u001b[0m \u001b[0mstart\u001b[0m \u001b[0;34m=\u001b[0m \u001b[0mtime\u001b[0m\u001b[0;34m.\u001b[0m\u001b[0mtime\u001b[0m\u001b[0;34m(\u001b[0m\u001b[0;34m)\u001b[0m\u001b[0;34m\u001b[0m\u001b[0;34m\u001b[0m\u001b[0m\n\u001b[0;32m----> 2\u001b[0;31m \u001b[0mdf_comments_sample\u001b[0m\u001b[0;34m[\u001b[0m\u001b[0;34m'emotion_group'\u001b[0m\u001b[0;34m]\u001b[0m \u001b[0;34m=\u001b[0m \u001b[0mparallel_classify\u001b[0m\u001b[0;34m(\u001b[0m\u001b[0mdf_comments_sample\u001b[0m\u001b[0;34m,\u001b[0m \u001b[0;34m'comment'\u001b[0m\u001b[0;34m)\u001b[0m\u001b[0;34m\u001b[0m\u001b[0;34m\u001b[0m\u001b[0m\n\u001b[0m\u001b[1;32m      3\u001b[0m \u001b[0mprint\u001b[0m\u001b[0;34m(\u001b[0m\u001b[0;34mf\"Time for 10k rows: {time.time() - start:.2f} seconds\"\u001b[0m\u001b[0;34m)\u001b[0m\u001b[0;34m\u001b[0m\u001b[0;34m\u001b[0m\u001b[0m\n\u001b[1;32m      4\u001b[0m \u001b[0;34m\u001b[0m\u001b[0m\n\u001b[1;32m      5\u001b[0m \u001b[0;34m\u001b[0m\u001b[0m\n",
      "\u001b[0;32m<ipython-input-39-b69b15bbdd97>\u001b[0m in \u001b[0;36mparallel_classify\u001b[0;34m(df, column_name)\u001b[0m\n\u001b[1;32m      6\u001b[0m \u001b[0;32mdef\u001b[0m \u001b[0mparallel_classify\u001b[0m\u001b[0;34m(\u001b[0m\u001b[0mdf\u001b[0m\u001b[0;34m,\u001b[0m \u001b[0mcolumn_name\u001b[0m\u001b[0;34m)\u001b[0m\u001b[0;34m:\u001b[0m\u001b[0;34m\u001b[0m\u001b[0;34m\u001b[0m\u001b[0m\n\u001b[1;32m      7\u001b[0m     \u001b[0;31m# process\u001b[0m\u001b[0;34m\u001b[0m\u001b[0;34m\u001b[0m\u001b[0m\n\u001b[0;32m----> 8\u001b[0;31m     results = Parallel(n_jobs=-1, backend='loky')(\n\u001b[0m\u001b[1;32m      9\u001b[0m         \u001b[0mdelayed\u001b[0m\u001b[0;34m(\u001b[0m\u001b[0mclassify_comment_emotion\u001b[0m\u001b[0;34m)\u001b[0m\u001b[0;34m(\u001b[0m\u001b[0mtext\u001b[0m\u001b[0;34m)\u001b[0m \u001b[0;32mfor\u001b[0m \u001b[0mtext\u001b[0m \u001b[0;32min\u001b[0m \u001b[0mtqdm\u001b[0m\u001b[0;34m(\u001b[0m\u001b[0mdf\u001b[0m\u001b[0;34m[\u001b[0m\u001b[0mcolumn_name\u001b[0m\u001b[0;34m]\u001b[0m\u001b[0;34m,\u001b[0m \u001b[0mdesc\u001b[0m\u001b[0;34m=\u001b[0m\u001b[0;34m\"Classifying emotions\"\u001b[0m\u001b[0;34m)\u001b[0m\u001b[0;34m\u001b[0m\u001b[0;34m\u001b[0m\u001b[0m\n\u001b[1;32m     10\u001b[0m     )\n",
      "\u001b[0;32m/usr/local/lib/python3.11/dist-packages/joblib/parallel.py\u001b[0m in \u001b[0;36m__call__\u001b[0;34m(self, iterable)\u001b[0m\n\u001b[1;32m   2005\u001b[0m         \u001b[0mnext\u001b[0m\u001b[0;34m(\u001b[0m\u001b[0moutput\u001b[0m\u001b[0;34m)\u001b[0m\u001b[0;34m\u001b[0m\u001b[0;34m\u001b[0m\u001b[0m\n\u001b[1;32m   2006\u001b[0m \u001b[0;34m\u001b[0m\u001b[0m\n\u001b[0;32m-> 2007\u001b[0;31m         \u001b[0;32mreturn\u001b[0m \u001b[0moutput\u001b[0m \u001b[0;32mif\u001b[0m \u001b[0mself\u001b[0m\u001b[0;34m.\u001b[0m\u001b[0mreturn_generator\u001b[0m \u001b[0;32melse\u001b[0m \u001b[0mlist\u001b[0m\u001b[0;34m(\u001b[0m\u001b[0moutput\u001b[0m\u001b[0;34m)\u001b[0m\u001b[0;34m\u001b[0m\u001b[0;34m\u001b[0m\u001b[0m\n\u001b[0m\u001b[1;32m   2008\u001b[0m \u001b[0;34m\u001b[0m\u001b[0m\n\u001b[1;32m   2009\u001b[0m     \u001b[0;32mdef\u001b[0m \u001b[0m__repr__\u001b[0m\u001b[0;34m(\u001b[0m\u001b[0mself\u001b[0m\u001b[0;34m)\u001b[0m\u001b[0;34m:\u001b[0m\u001b[0;34m\u001b[0m\u001b[0;34m\u001b[0m\u001b[0m\n",
      "\u001b[0;32m/usr/local/lib/python3.11/dist-packages/joblib/parallel.py\u001b[0m in \u001b[0;36m_get_outputs\u001b[0;34m(self, iterator, pre_dispatch)\u001b[0m\n\u001b[1;32m   1648\u001b[0m \u001b[0;34m\u001b[0m\u001b[0m\n\u001b[1;32m   1649\u001b[0m             \u001b[0;32mwith\u001b[0m \u001b[0mself\u001b[0m\u001b[0;34m.\u001b[0m\u001b[0m_backend\u001b[0m\u001b[0;34m.\u001b[0m\u001b[0mretrieval_context\u001b[0m\u001b[0;34m(\u001b[0m\u001b[0;34m)\u001b[0m\u001b[0;34m:\u001b[0m\u001b[0;34m\u001b[0m\u001b[0;34m\u001b[0m\u001b[0m\n\u001b[0;32m-> 1650\u001b[0;31m                 \u001b[0;32myield\u001b[0m \u001b[0;32mfrom\u001b[0m \u001b[0mself\u001b[0m\u001b[0;34m.\u001b[0m\u001b[0m_retrieve\u001b[0m\u001b[0;34m(\u001b[0m\u001b[0;34m)\u001b[0m\u001b[0;34m\u001b[0m\u001b[0;34m\u001b[0m\u001b[0m\n\u001b[0m\u001b[1;32m   1651\u001b[0m \u001b[0;34m\u001b[0m\u001b[0m\n\u001b[1;32m   1652\u001b[0m         \u001b[0;32mexcept\u001b[0m \u001b[0mGeneratorExit\u001b[0m\u001b[0;34m:\u001b[0m\u001b[0;34m\u001b[0m\u001b[0;34m\u001b[0m\u001b[0m\n",
      "\u001b[0;32m/usr/local/lib/python3.11/dist-packages/joblib/parallel.py\u001b[0m in \u001b[0;36m_retrieve\u001b[0;34m(self)\u001b[0m\n\u001b[1;32m   1760\u001b[0m                 (self._jobs[0].get_status(\n\u001b[1;32m   1761\u001b[0m                     timeout=self.timeout) == TASK_PENDING)):\n\u001b[0;32m-> 1762\u001b[0;31m                 \u001b[0mtime\u001b[0m\u001b[0;34m.\u001b[0m\u001b[0msleep\u001b[0m\u001b[0;34m(\u001b[0m\u001b[0;36m0.01\u001b[0m\u001b[0;34m)\u001b[0m\u001b[0;34m\u001b[0m\u001b[0;34m\u001b[0m\u001b[0m\n\u001b[0m\u001b[1;32m   1763\u001b[0m                 \u001b[0;32mcontinue\u001b[0m\u001b[0;34m\u001b[0m\u001b[0;34m\u001b[0m\u001b[0m\n\u001b[1;32m   1764\u001b[0m \u001b[0;34m\u001b[0m\u001b[0m\n",
      "\u001b[0;31mKeyboardInterrupt\u001b[0m: "
     ]
    }
   ],
   "source": [
    "start = time.time()\n",
    "df_comments_sample['emotion_group'] = parallel_classify(df_comments_sample, 'comment')\n",
    "print(f\"Time for 100k rows: {time.time() - start:.2f} seconds\")\n",
    "\n",
    "\n",
    "# Define the target directory\n",
    "output_dir = '/content/gdrive/MyDrive/fakenews_data'\n",
    "\n",
    "if not os.path.exists(output_dir):\n",
    "    os.makedirs(output_dir)\n",
    "    print(f\"Created directory: {output_dir}\")\n",
    "else:\n",
    "    print(f\"Directory already exists: {output_dir}\")\n",
    "\n",
    "output_path = os.path.join(output_dir, 'df_comments_sample_100k.tsv')\n",
    "df_comments_sample.to_csv(output_path, sep='\\t', index=False)\n",
    "print(f\"DataFrame saved to {output_path}\")\n",
    "\n",
    "print(\"File exists:\", os.path.exists(output_path))"
   ]
  },
  {
   "cell_type": "code",
   "execution_count": null,
   "metadata": {
    "colab": {
     "base_uri": "https://localhost:8080/"
    },
    "executionInfo": {
     "elapsed": 344,
     "status": "ok",
     "timestamp": 1742842243021,
     "user": {
      "displayName": "Xin Yan",
      "userId": "08308894215731508440"
     },
     "user_tz": 240
    },
    "id": "gidDgngA2Yzs",
    "outputId": "fb3b2a4c-f890-467d-a050-9abfb10c02e7"
   },
   "outputs": [
    {
     "name": "stdout",
     "output_type": "stream",
     "text": [
      "Directory already exists: /content/gdrive/MyDrive/fakenews_data\n",
      "DataFrame saved to /content/gdrive/MyDrive/fakenews_data/df_sample_10k.tsv\n",
      "File exists: True\n"
     ]
    }
   ],
   "source": [
    "# # Define the target directory\n",
    "# output_dir = '/content/gdrive/MyDrive/fakenews_data'\n",
    "\n",
    "# # Create the directory if it doesn't exist\n",
    "# if not os.path.exists(output_dir):\n",
    "#     os.makedirs(output_dir)\n",
    "#     print(f\"Created directory: {output_dir}\")\n",
    "# else:\n",
    "#     print(f\"Directory already exists: {output_dir}\")\n",
    "\n",
    "# # Save DataFrame to TSV\n",
    "# output_path = os.path.join(output_dir, 'df_sample_10k.tsv')\n",
    "# df_sample.to_csv(output_path, sep='\\t', index=False)\n",
    "# print(f\"DataFrame saved to {output_path}\")\n",
    "\n",
    "# # Verify file existence\n",
    "# print(\"File exists:\", os.path.exists(output_path))"
   ]
  },
  {
   "cell_type": "code",
   "execution_count": null,
   "metadata": {
    "colab": {
     "base_uri": "https://localhost:8080/"
    },
    "executionInfo": {
     "elapsed": 23,
     "status": "ok",
     "timestamp": 1742880306907,
     "user": {
      "displayName": "Xin Yan",
      "userId": "08308894215731508440"
     },
     "user_tz": 240
    },
    "id": "Icx_bI7Ufl4G",
    "outputId": "96563c3c-e19e-44c4-d11c-021d39a207c2"
   },
   "outputs": [
    {
     "data": {
      "text/plain": [
       "(10000, 18)"
      ]
     },
     "execution_count": 23,
     "metadata": {},
     "output_type": "execute_result"
    }
   ],
   "source": [
    "df_sample.shape"
   ]
  },
  {
   "cell_type": "code",
   "execution_count": null,
   "metadata": {
    "colab": {
     "base_uri": "https://localhost:8080/",
     "height": 424
    },
    "executionInfo": {
     "elapsed": 39,
     "status": "ok",
     "timestamp": 1742880310102,
     "user": {
      "displayName": "Xin Yan",
      "userId": "08308894215731508440"
     },
     "user_tz": 240
    },
    "id": "MoyuQMmOGO4g",
    "outputId": "82552cdc-e546-47d4-fe70-72218fdd2cb0"
   },
   "outputs": [
    {
     "data": {
      "application/vnd.google.colaboratory.intrinsic+json": {
       "type": "dataframe",
       "variable_name": "df_comments_sample"
      },
      "text/html": [
       "\n",
       "  <div id=\"df-dead426e-812a-4a50-a072-f7b6a9249f94\" class=\"colab-df-container\">\n",
       "    <div>\n",
       "<style scoped>\n",
       "    .dataframe tbody tr th:only-of-type {\n",
       "        vertical-align: middle;\n",
       "    }\n",
       "\n",
       "    .dataframe tbody tr th {\n",
       "        vertical-align: top;\n",
       "    }\n",
       "\n",
       "    .dataframe thead th {\n",
       "        text-align: right;\n",
       "    }\n",
       "</style>\n",
       "<table border=\"1\" class=\"dataframe\">\n",
       "  <thead>\n",
       "    <tr style=\"text-align: right;\">\n",
       "      <th></th>\n",
       "      <th>Unnamed: 0</th>\n",
       "      <th>id</th>\n",
       "      <th>author</th>\n",
       "      <th>body</th>\n",
       "      <th>isTopLevel</th>\n",
       "      <th>parent_id</th>\n",
       "      <th>submission_id</th>\n",
       "      <th>ups</th>\n",
       "      <th>comment</th>\n",
       "      <th>emotion_group</th>\n",
       "    </tr>\n",
       "  </thead>\n",
       "  <tbody>\n",
       "    <tr>\n",
       "      <th>401</th>\n",
       "      <td>436</td>\n",
       "      <td>f1fnrji</td>\n",
       "      <td>Gamer-_-Bro</td>\n",
       "      <td>Smart move by Trump</td>\n",
       "      <td>True</td>\n",
       "      <td>t3_d98j4z</td>\n",
       "      <td>d98j4z</td>\n",
       "      <td>71.0</td>\n",
       "      <td>smart move by trump</td>\n",
       "      <td>novelty</td>\n",
       "    </tr>\n",
       "    <tr>\n",
       "      <th>402</th>\n",
       "      <td>437</td>\n",
       "      <td>f1ftgez</td>\n",
       "      <td>BigRedCowboy</td>\n",
       "      <td>The one thing Dems said he wasn’t brave enough...</td>\n",
       "      <td>True</td>\n",
       "      <td>t3_d98j4z</td>\n",
       "      <td>d98j4z</td>\n",
       "      <td>25.0</td>\n",
       "      <td>the one thing dems said he was not brave enoug...</td>\n",
       "      <td>neutral</td>\n",
       "    </tr>\n",
       "    <tr>\n",
       "      <th>403</th>\n",
       "      <td>438</td>\n",
       "      <td>f1fpgzd</td>\n",
       "      <td>Dipstu</td>\n",
       "      <td>This’ll show Pelosi what’s what !</td>\n",
       "      <td>True</td>\n",
       "      <td>t3_d98j4z</td>\n",
       "      <td>d98j4z</td>\n",
       "      <td>16.0</td>\n",
       "      <td>this will show pelosi what is what !</td>\n",
       "      <td>expectation</td>\n",
       "    </tr>\n",
       "    <tr>\n",
       "      <th>404</th>\n",
       "      <td>439</td>\n",
       "      <td>f1fqjsp</td>\n",
       "      <td>FatherOfTheState</td>\n",
       "      <td>When Eric Trump can't even be trusted to bury ...</td>\n",
       "      <td>True</td>\n",
       "      <td>t3_d98j4z</td>\n",
       "      <td>d98j4z</td>\n",
       "      <td>13.0</td>\n",
       "      <td>when eric trump cannot even be trusted to bury...</td>\n",
       "      <td>neutral</td>\n",
       "    </tr>\n",
       "    <tr>\n",
       "      <th>405</th>\n",
       "      <td>440</td>\n",
       "      <td>f1ilrt0</td>\n",
       "      <td>IdahoSavage</td>\n",
       "      <td>I wish</td>\n",
       "      <td>True</td>\n",
       "      <td>t3_d98j4z</td>\n",
       "      <td>d98j4z</td>\n",
       "      <td>1.0</td>\n",
       "      <td>i wish</td>\n",
       "      <td>neutral</td>\n",
       "    </tr>\n",
       "    <tr>\n",
       "      <th>...</th>\n",
       "      <td>...</td>\n",
       "      <td>...</td>\n",
       "      <td>...</td>\n",
       "      <td>...</td>\n",
       "      <td>...</td>\n",
       "      <td>...</td>\n",
       "      <td>...</td>\n",
       "      <td>...</td>\n",
       "      <td>...</td>\n",
       "      <td>...</td>\n",
       "    </tr>\n",
       "    <tr>\n",
       "      <th>10696128</th>\n",
       "      <td>10599571</td>\n",
       "      <td>c5gl6si</td>\n",
       "      <td>2425brutus</td>\n",
       "      <td>I read this a little while ago but just found ...</td>\n",
       "      <td>True</td>\n",
       "      <td>t3_wuo4e</td>\n",
       "      <td>wuo4e</td>\n",
       "      <td>2.0</td>\n",
       "      <td>i read this a little while ago but just found ...</td>\n",
       "      <td>expectation</td>\n",
       "    </tr>\n",
       "    <tr>\n",
       "      <th>10696129</th>\n",
       "      <td>10599572</td>\n",
       "      <td>c5gmj41</td>\n",
       "      <td>wibblebeast</td>\n",
       "      <td>He was a fine person and I'm so sad to hear th...</td>\n",
       "      <td>True</td>\n",
       "      <td>t3_wuo4e</td>\n",
       "      <td>wuo4e</td>\n",
       "      <td>2.0</td>\n",
       "      <td>he was a fine person and i am so sad to hear t...</td>\n",
       "      <td>neutral</td>\n",
       "    </tr>\n",
       "    <tr>\n",
       "      <th>10696130</th>\n",
       "      <td>10599573</td>\n",
       "      <td>c5gli5f</td>\n",
       "      <td>timdaw</td>\n",
       "      <td>Thanks. That was lovely.</td>\n",
       "      <td>False</td>\n",
       "      <td>t1_c5gl6si</td>\n",
       "      <td>wuo4e</td>\n",
       "      <td>2.0</td>\n",
       "      <td>thanks that was lovely</td>\n",
       "      <td>expectation</td>\n",
       "    </tr>\n",
       "    <tr>\n",
       "      <th>10696663</th>\n",
       "      <td>10600141</td>\n",
       "      <td>c58b5n6</td>\n",
       "      <td>wibblebeast</td>\n",
       "      <td>When they all stood up I got all teary. So nic...</td>\n",
       "      <td>True</td>\n",
       "      <td>t3_vw2qs</td>\n",
       "      <td>vw2qs</td>\n",
       "      <td>5.0</td>\n",
       "      <td>when they all stood up i got all teary so nice...</td>\n",
       "      <td>expectation</td>\n",
       "    </tr>\n",
       "    <tr>\n",
       "      <th>10696664</th>\n",
       "      <td>10600142</td>\n",
       "      <td>c5855mn</td>\n",
       "      <td>razorsheldon</td>\n",
       "      <td>Thanks for posting this.  A very fitting examp...</td>\n",
       "      <td>True</td>\n",
       "      <td>t3_vw2qs</td>\n",
       "      <td>vw2qs</td>\n",
       "      <td>2.0</td>\n",
       "      <td>thanks for posting this a very fitting example...</td>\n",
       "      <td>expectation</td>\n",
       "    </tr>\n",
       "  </tbody>\n",
       "</table>\n",
       "<p>172864 rows × 10 columns</p>\n",
       "</div>\n",
       "    <div class=\"colab-df-buttons\">\n",
       "\n",
       "  <div class=\"colab-df-container\">\n",
       "    <button class=\"colab-df-convert\" onclick=\"convertToInteractive('df-dead426e-812a-4a50-a072-f7b6a9249f94')\"\n",
       "            title=\"Convert this dataframe to an interactive table.\"\n",
       "            style=\"display:none;\">\n",
       "\n",
       "  <svg xmlns=\"http://www.w3.org/2000/svg\" height=\"24px\" viewBox=\"0 -960 960 960\">\n",
       "    <path d=\"M120-120v-720h720v720H120Zm60-500h600v-160H180v160Zm220 220h160v-160H400v160Zm0 220h160v-160H400v160ZM180-400h160v-160H180v160Zm440 0h160v-160H620v160ZM180-180h160v-160H180v160Zm440 0h160v-160H620v160Z\"/>\n",
       "  </svg>\n",
       "    </button>\n",
       "\n",
       "  <style>\n",
       "    .colab-df-container {\n",
       "      display:flex;\n",
       "      gap: 12px;\n",
       "    }\n",
       "\n",
       "    .colab-df-convert {\n",
       "      background-color: #E8F0FE;\n",
       "      border: none;\n",
       "      border-radius: 50%;\n",
       "      cursor: pointer;\n",
       "      display: none;\n",
       "      fill: #1967D2;\n",
       "      height: 32px;\n",
       "      padding: 0 0 0 0;\n",
       "      width: 32px;\n",
       "    }\n",
       "\n",
       "    .colab-df-convert:hover {\n",
       "      background-color: #E2EBFA;\n",
       "      box-shadow: 0px 1px 2px rgba(60, 64, 67, 0.3), 0px 1px 3px 1px rgba(60, 64, 67, 0.15);\n",
       "      fill: #174EA6;\n",
       "    }\n",
       "\n",
       "    .colab-df-buttons div {\n",
       "      margin-bottom: 4px;\n",
       "    }\n",
       "\n",
       "    [theme=dark] .colab-df-convert {\n",
       "      background-color: #3B4455;\n",
       "      fill: #D2E3FC;\n",
       "    }\n",
       "\n",
       "    [theme=dark] .colab-df-convert:hover {\n",
       "      background-color: #434B5C;\n",
       "      box-shadow: 0px 1px 3px 1px rgba(0, 0, 0, 0.15);\n",
       "      filter: drop-shadow(0px 1px 2px rgba(0, 0, 0, 0.3));\n",
       "      fill: #FFFFFF;\n",
       "    }\n",
       "  </style>\n",
       "\n",
       "    <script>\n",
       "      const buttonEl =\n",
       "        document.querySelector('#df-dead426e-812a-4a50-a072-f7b6a9249f94 button.colab-df-convert');\n",
       "      buttonEl.style.display =\n",
       "        google.colab.kernel.accessAllowed ? 'block' : 'none';\n",
       "\n",
       "      async function convertToInteractive(key) {\n",
       "        const element = document.querySelector('#df-dead426e-812a-4a50-a072-f7b6a9249f94');\n",
       "        const dataTable =\n",
       "          await google.colab.kernel.invokeFunction('convertToInteractive',\n",
       "                                                    [key], {});\n",
       "        if (!dataTable) return;\n",
       "\n",
       "        const docLinkHtml = 'Like what you see? Visit the ' +\n",
       "          '<a target=\"_blank\" href=https://colab.research.google.com/notebooks/data_table.ipynb>data table notebook</a>'\n",
       "          + ' to learn more about interactive tables.';\n",
       "        element.innerHTML = '';\n",
       "        dataTable['output_type'] = 'display_data';\n",
       "        await google.colab.output.renderOutput(dataTable, element);\n",
       "        const docLink = document.createElement('div');\n",
       "        docLink.innerHTML = docLinkHtml;\n",
       "        element.appendChild(docLink);\n",
       "      }\n",
       "    </script>\n",
       "  </div>\n",
       "\n",
       "\n",
       "<div id=\"df-aaa30323-e12f-410d-b1c2-61f5801cb249\">\n",
       "  <button class=\"colab-df-quickchart\" onclick=\"quickchart('df-aaa30323-e12f-410d-b1c2-61f5801cb249')\"\n",
       "            title=\"Suggest charts\"\n",
       "            style=\"display:none;\">\n",
       "\n",
       "<svg xmlns=\"http://www.w3.org/2000/svg\" height=\"24px\"viewBox=\"0 0 24 24\"\n",
       "     width=\"24px\">\n",
       "    <g>\n",
       "        <path d=\"M19 3H5c-1.1 0-2 .9-2 2v14c0 1.1.9 2 2 2h14c1.1 0 2-.9 2-2V5c0-1.1-.9-2-2-2zM9 17H7v-7h2v7zm4 0h-2V7h2v10zm4 0h-2v-4h2v4z\"/>\n",
       "    </g>\n",
       "</svg>\n",
       "  </button>\n",
       "\n",
       "<style>\n",
       "  .colab-df-quickchart {\n",
       "      --bg-color: #E8F0FE;\n",
       "      --fill-color: #1967D2;\n",
       "      --hover-bg-color: #E2EBFA;\n",
       "      --hover-fill-color: #174EA6;\n",
       "      --disabled-fill-color: #AAA;\n",
       "      --disabled-bg-color: #DDD;\n",
       "  }\n",
       "\n",
       "  [theme=dark] .colab-df-quickchart {\n",
       "      --bg-color: #3B4455;\n",
       "      --fill-color: #D2E3FC;\n",
       "      --hover-bg-color: #434B5C;\n",
       "      --hover-fill-color: #FFFFFF;\n",
       "      --disabled-bg-color: #3B4455;\n",
       "      --disabled-fill-color: #666;\n",
       "  }\n",
       "\n",
       "  .colab-df-quickchart {\n",
       "    background-color: var(--bg-color);\n",
       "    border: none;\n",
       "    border-radius: 50%;\n",
       "    cursor: pointer;\n",
       "    display: none;\n",
       "    fill: var(--fill-color);\n",
       "    height: 32px;\n",
       "    padding: 0;\n",
       "    width: 32px;\n",
       "  }\n",
       "\n",
       "  .colab-df-quickchart:hover {\n",
       "    background-color: var(--hover-bg-color);\n",
       "    box-shadow: 0 1px 2px rgba(60, 64, 67, 0.3), 0 1px 3px 1px rgba(60, 64, 67, 0.15);\n",
       "    fill: var(--button-hover-fill-color);\n",
       "  }\n",
       "\n",
       "  .colab-df-quickchart-complete:disabled,\n",
       "  .colab-df-quickchart-complete:disabled:hover {\n",
       "    background-color: var(--disabled-bg-color);\n",
       "    fill: var(--disabled-fill-color);\n",
       "    box-shadow: none;\n",
       "  }\n",
       "\n",
       "  .colab-df-spinner {\n",
       "    border: 2px solid var(--fill-color);\n",
       "    border-color: transparent;\n",
       "    border-bottom-color: var(--fill-color);\n",
       "    animation:\n",
       "      spin 1s steps(1) infinite;\n",
       "  }\n",
       "\n",
       "  @keyframes spin {\n",
       "    0% {\n",
       "      border-color: transparent;\n",
       "      border-bottom-color: var(--fill-color);\n",
       "      border-left-color: var(--fill-color);\n",
       "    }\n",
       "    20% {\n",
       "      border-color: transparent;\n",
       "      border-left-color: var(--fill-color);\n",
       "      border-top-color: var(--fill-color);\n",
       "    }\n",
       "    30% {\n",
       "      border-color: transparent;\n",
       "      border-left-color: var(--fill-color);\n",
       "      border-top-color: var(--fill-color);\n",
       "      border-right-color: var(--fill-color);\n",
       "    }\n",
       "    40% {\n",
       "      border-color: transparent;\n",
       "      border-right-color: var(--fill-color);\n",
       "      border-top-color: var(--fill-color);\n",
       "    }\n",
       "    60% {\n",
       "      border-color: transparent;\n",
       "      border-right-color: var(--fill-color);\n",
       "    }\n",
       "    80% {\n",
       "      border-color: transparent;\n",
       "      border-right-color: var(--fill-color);\n",
       "      border-bottom-color: var(--fill-color);\n",
       "    }\n",
       "    90% {\n",
       "      border-color: transparent;\n",
       "      border-bottom-color: var(--fill-color);\n",
       "    }\n",
       "  }\n",
       "</style>\n",
       "\n",
       "  <script>\n",
       "    async function quickchart(key) {\n",
       "      const quickchartButtonEl =\n",
       "        document.querySelector('#' + key + ' button');\n",
       "      quickchartButtonEl.disabled = true;  // To prevent multiple clicks.\n",
       "      quickchartButtonEl.classList.add('colab-df-spinner');\n",
       "      try {\n",
       "        const charts = await google.colab.kernel.invokeFunction(\n",
       "            'suggestCharts', [key], {});\n",
       "      } catch (error) {\n",
       "        console.error('Error during call to suggestCharts:', error);\n",
       "      }\n",
       "      quickchartButtonEl.classList.remove('colab-df-spinner');\n",
       "      quickchartButtonEl.classList.add('colab-df-quickchart-complete');\n",
       "    }\n",
       "    (() => {\n",
       "      let quickchartButtonEl =\n",
       "        document.querySelector('#df-aaa30323-e12f-410d-b1c2-61f5801cb249 button');\n",
       "      quickchartButtonEl.style.display =\n",
       "        google.colab.kernel.accessAllowed ? 'block' : 'none';\n",
       "    })();\n",
       "  </script>\n",
       "</div>\n",
       "\n",
       "  <div id=\"id_0c0c6113-2315-4032-a24d-f28079e12168\">\n",
       "    <style>\n",
       "      .colab-df-generate {\n",
       "        background-color: #E8F0FE;\n",
       "        border: none;\n",
       "        border-radius: 50%;\n",
       "        cursor: pointer;\n",
       "        display: none;\n",
       "        fill: #1967D2;\n",
       "        height: 32px;\n",
       "        padding: 0 0 0 0;\n",
       "        width: 32px;\n",
       "      }\n",
       "\n",
       "      .colab-df-generate:hover {\n",
       "        background-color: #E2EBFA;\n",
       "        box-shadow: 0px 1px 2px rgba(60, 64, 67, 0.3), 0px 1px 3px 1px rgba(60, 64, 67, 0.15);\n",
       "        fill: #174EA6;\n",
       "      }\n",
       "\n",
       "      [theme=dark] .colab-df-generate {\n",
       "        background-color: #3B4455;\n",
       "        fill: #D2E3FC;\n",
       "      }\n",
       "\n",
       "      [theme=dark] .colab-df-generate:hover {\n",
       "        background-color: #434B5C;\n",
       "        box-shadow: 0px 1px 3px 1px rgba(0, 0, 0, 0.15);\n",
       "        filter: drop-shadow(0px 1px 2px rgba(0, 0, 0, 0.3));\n",
       "        fill: #FFFFFF;\n",
       "      }\n",
       "    </style>\n",
       "    <button class=\"colab-df-generate\" onclick=\"generateWithVariable('df_comments_sample')\"\n",
       "            title=\"Generate code using this dataframe.\"\n",
       "            style=\"display:none;\">\n",
       "\n",
       "  <svg xmlns=\"http://www.w3.org/2000/svg\" height=\"24px\"viewBox=\"0 0 24 24\"\n",
       "       width=\"24px\">\n",
       "    <path d=\"M7,19H8.4L18.45,9,17,7.55,7,17.6ZM5,21V16.75L18.45,3.32a2,2,0,0,1,2.83,0l1.4,1.43a1.91,1.91,0,0,1,.58,1.4,1.91,1.91,0,0,1-.58,1.4L9.25,21ZM18.45,9,17,7.55Zm-12,3A5.31,5.31,0,0,0,4.9,8.1,5.31,5.31,0,0,0,1,6.5,5.31,5.31,0,0,0,4.9,4.9,5.31,5.31,0,0,0,6.5,1,5.31,5.31,0,0,0,8.1,4.9,5.31,5.31,0,0,0,12,6.5,5.46,5.46,0,0,0,6.5,12Z\"/>\n",
       "  </svg>\n",
       "    </button>\n",
       "    <script>\n",
       "      (() => {\n",
       "      const buttonEl =\n",
       "        document.querySelector('#id_0c0c6113-2315-4032-a24d-f28079e12168 button.colab-df-generate');\n",
       "      buttonEl.style.display =\n",
       "        google.colab.kernel.accessAllowed ? 'block' : 'none';\n",
       "\n",
       "      buttonEl.onclick = () => {\n",
       "        google.colab.notebook.generateWithVariable('df_comments_sample');\n",
       "      }\n",
       "      })();\n",
       "    </script>\n",
       "  </div>\n",
       "\n",
       "    </div>\n",
       "  </div>\n"
      ],
      "text/plain": [
       "         Unnamed: 0       id            author  \\\n",
       "401             436  f1fnrji       Gamer-_-Bro   \n",
       "402             437  f1ftgez      BigRedCowboy   \n",
       "403             438  f1fpgzd            Dipstu   \n",
       "404             439  f1fqjsp  FatherOfTheState   \n",
       "405             440  f1ilrt0       IdahoSavage   \n",
       "...             ...      ...               ...   \n",
       "10696128   10599571  c5gl6si        2425brutus   \n",
       "10696129   10599572  c5gmj41       wibblebeast   \n",
       "10696130   10599573  c5gli5f            timdaw   \n",
       "10696663   10600141  c58b5n6       wibblebeast   \n",
       "10696664   10600142  c5855mn      razorsheldon   \n",
       "\n",
       "                                                       body isTopLevel  \\\n",
       "401                                     Smart move by Trump       True   \n",
       "402       The one thing Dems said he wasn’t brave enough...       True   \n",
       "403                       This’ll show Pelosi what’s what !       True   \n",
       "404       When Eric Trump can't even be trusted to bury ...       True   \n",
       "405                                                  I wish       True   \n",
       "...                                                     ...        ...   \n",
       "10696128  I read this a little while ago but just found ...       True   \n",
       "10696129  He was a fine person and I'm so sad to hear th...       True   \n",
       "10696130                           Thanks. That was lovely.      False   \n",
       "10696663  When they all stood up I got all teary. So nic...       True   \n",
       "10696664  Thanks for posting this.  A very fitting examp...       True   \n",
       "\n",
       "           parent_id submission_id   ups  \\\n",
       "401        t3_d98j4z        d98j4z  71.0   \n",
       "402        t3_d98j4z        d98j4z  25.0   \n",
       "403        t3_d98j4z        d98j4z  16.0   \n",
       "404        t3_d98j4z        d98j4z  13.0   \n",
       "405        t3_d98j4z        d98j4z   1.0   \n",
       "...              ...           ...   ...   \n",
       "10696128    t3_wuo4e         wuo4e   2.0   \n",
       "10696129    t3_wuo4e         wuo4e   2.0   \n",
       "10696130  t1_c5gl6si         wuo4e   2.0   \n",
       "10696663    t3_vw2qs         vw2qs   5.0   \n",
       "10696664    t3_vw2qs         vw2qs   2.0   \n",
       "\n",
       "                                                    comment emotion_group  \n",
       "401                                     smart move by trump       novelty  \n",
       "402       the one thing dems said he was not brave enoug...       neutral  \n",
       "403                    this will show pelosi what is what !   expectation  \n",
       "404       when eric trump cannot even be trusted to bury...       neutral  \n",
       "405                                                  i wish       neutral  \n",
       "...                                                     ...           ...  \n",
       "10696128  i read this a little while ago but just found ...   expectation  \n",
       "10696129  he was a fine person and i am so sad to hear t...       neutral  \n",
       "10696130                             thanks that was lovely   expectation  \n",
       "10696663  when they all stood up i got all teary so nice...   expectation  \n",
       "10696664  thanks for posting this a very fitting example...   expectation  \n",
       "\n",
       "[172864 rows x 10 columns]"
      ]
     },
     "execution_count": 24,
     "metadata": {},
     "output_type": "execute_result"
    }
   ],
   "source": [
    "df_comments_sample"
   ]
  },
  {
   "cell_type": "code",
   "execution_count": null,
   "metadata": {
    "colab": {
     "base_uri": "https://localhost:8080/",
     "height": 564
    },
    "executionInfo": {
     "elapsed": 289,
     "status": "ok",
     "timestamp": 1742880339838,
     "user": {
      "displayName": "Xin Yan",
      "userId": "08308894215731508440"
     },
     "user_tz": 240
    },
    "id": "e5RsIapzSuDO",
    "outputId": "c4d71e5c-244a-4892-e652-a626edb7dbed"
   },
   "outputs": [
    {
     "data": {
      "image/png": "[encoded data removed]",
      "text/plain": [
       "<Figure size 1000x600 with 1 Axes>"
      ]
     },
     "metadata": {},
     "output_type": "display_data"
    }
   ],
   "source": [
    "import matplotlib.pyplot as plt\n",
    "plt.figure(figsize=(10, 6))\n",
    "plt.hist(df_comments_sample['emotion_group'].dropna(), bins=5, edgecolor='black')\n",
    "plt.title('Distribution of emotion_group')\n",
    "plt.xlabel('group')\n",
    "plt.ylabel('Frequency')\n",
    "plt.grid(True, alpha=0.3)\n",
    "plt.show()"
   ]
  },
  {
   "cell_type": "code",
   "execution_count": null,
   "metadata": {
    "id": "UYWXARXfTQIy"
   },
   "outputs": [],
   "source": [
    "group_counts = df_comments_sample.groupby(['submission_id', 'emotion_group']).size().unstack(fill_value=0)\n",
    "\n",
    "for grp in [\"novelty\", \"expectation\", \"neutral\"]:\n",
    "    if grp not in group_counts.columns:\n",
    "        group_counts[grp] = 0"
   ]
  },
  {
   "cell_type": "code",
   "execution_count": null,
   "metadata": {
    "id": "IxbtBKgvS3yz"
   },
   "outputs": [],
   "source": [
    "def dominant_group_count(row):\n",
    "    \n",
    "    nov, exp, neut = row[\"novelty\"], row[\"expectation\"], row[\"neutral\"]\n",
    " \n",
    "    if nov == exp and nov >= neut:\n",
    "        return \"neutral\"\n",
    "    if neut > nov and neut > exp:\n",
    "        return \"neutral\"\n",
    "    if nov > exp and nov >= neut:\n",
    "        return \"novelty\"\n",
    "    if exp > nov and exp >= neut:\n",
    "        return \"expectation\"\n",
    "    # If all equal (rare) or empty, call it neutral\n",
    "    return \"neutral\""
   ]
  },
  {
   "cell_type": "code",
   "execution_count": null,
   "metadata": {
    "id": "GIaoj_hNTvPu"
   },
   "outputs": [],
   "source": [
    "dominant_groups = group_counts.apply(dominant_group_count, axis=1)\n",
    "# Map group: expectation=0, neutral=0.5, novelty=1\n",
    "group_to_value = {\"expectation\": 0.0, \"neutral\": 0.5, \"novelty\": 1.0}\n",
    "emotion_feature = dominant_groups.map(group_to_value)"
   ]
  },
  {
   "cell_type": "code",
   "execution_count": null,
   "metadata": {
    "colab": {
     "base_uri": "https://localhost:8080/"
    },
    "executionInfo": {
     "elapsed": 28,
     "status": "ok",
     "timestamp": 1742880353232,
     "user": {
      "displayName": "Xin Yan",
      "userId": "08308894215731508440"
     },
     "user_tz": 240
    },
    "id": "CGEd9XiYTvSz",
    "outputId": "1501cbdc-bb4e-4218-a4f2-c8182036a414"
   },
   "outputs": [
    {
     "name": "stdout",
     "output_type": "stream",
     "text": [
      "Sample of emotion feature values:        id  emotion_score\n",
      "0  7nibhe            0.0\n",
      "1  1rcv6y            0.5\n",
      "2  5tvvn5            0.0\n",
      "3  bynpyd            0.5\n",
      "4  1u0y70            0.5\n"
     ]
    },
    {
     "name": "stderr",
     "output_type": "stream",
     "text": [
      "<ipython-input-30-c003b04d13dd>:3: FutureWarning: A value is trying to be set on a copy of a DataFrame or Series through chained assignment using an inplace method.\n",
      "The behavior will change in pandas 3.0. This inplace method will never work because the intermediate object on which we are setting values always behaves as a copy.\n",
      "\n",
      "For example, when doing 'df[col].method(value, inplace=True)', try using 'df.method({col: value}, inplace=True)' or df[col] = df[col].method(value) instead, to perform the operation inplace on the original object.\n",
      "\n",
      "\n",
      "  df_sample['emotion_score'].fillna(0.5, inplace=True)  # if any missing (no comments or tie), assign neutral 0.5\n"
     ]
    }
   ],
   "source": [
    "\n",
    "df_sample['emotion_score'] = df_sample['id'].map(emotion_feature)\n",
    "df_sample['emotion_score'].fillna(0.5, inplace=True)  # if any missing (no comments or tie), assign neutral 0.5\n",
    "print(\"Sample of emotion feature values:\", df_sample[['id','emotion_score']].head(5))"
   ]
  },
  {
   "cell_type": "code",
   "execution_count": null,
   "metadata": {
    "colab": {
     "base_uri": "https://localhost:8080/"
    },
    "executionInfo": {
     "elapsed": 31,
     "status": "ok",
     "timestamp": 1742880358346,
     "user": {
      "displayName": "Xin Yan",
      "userId": "08308894215731508440"
     },
     "user_tz": 240
    },
    "id": "dVYltQqtTvV8",
    "outputId": "f1d62f0f-fac1-4ebb-9758-a30b977e7aa4"
   },
   "outputs": [
    {
     "name": "stdout",
     "output_type": "stream",
     "text": [
      "emotion_score\n",
      "0.5    5713\n",
      "0.0    3498\n",
      "1.0     789\n",
      "Name: count, dtype: int64\n"
     ]
    }
   ],
   "source": [
    "print(df_sample['emotion_score'].value_counts())"
   ]
  },
  {
   "cell_type": "markdown",
   "metadata": {
    "id": "OBV2uTSLUjHR"
   },
   "source": [
    "## 6. Prepare Data for Modeling"
   ]
  },
  {
   "cell_type": "code",
   "execution_count": null,
   "metadata": {
    "id": "Jynf9s5pTvYp"
   },
   "outputs": [],
   "source": [
    "from sklearn.model_selection import train_test_split\n",
    "\n",
    "# Define features and target\n",
    "X_text = df_sample['title_cleaned'].astype(str).values  # title text\n",
    "X_sentiment = df_sample['sentiment_score'].values\n",
    "X_emotion = df_sample['emotion_score'].values\n",
    "y = df_sample['2_way_label'].values"
   ]
  },
  {
   "cell_type": "code",
   "execution_count": null,
   "metadata": {
    "colab": {
     "base_uri": "https://localhost:8080/"
    },
    "executionInfo": {
     "elapsed": 31,
     "status": "ok",
     "timestamp": 1742880366259,
     "user": {
      "displayName": "Xin Yan",
      "userId": "08308894215731508440"
     },
     "user_tz": 240
    },
    "id": "3swvV7hsUmQY",
    "outputId": "5b4b0049-723d-46ac-a42d-3861a74e827d"
   },
   "outputs": [
    {
     "name": "stdout",
     "output_type": "stream",
     "text": [
      "Training samples: 8000\n",
      "Testing samples: 2000\n"
     ]
    }
   ],
   "source": [
    "# Split into train and test sets\n",
    "X_text_train, X_text_test, X_sent_train, X_sent_test, X_emot_train, X_emot_test, y_train, y_test = train_test_split(\n",
    "    X_text, X_sentiment, X_emotion, y, test_size=0.2, random_state=42, stratify=y)\n",
    "\n",
    "print(\"Training samples:\", len(X_text_train))\n",
    "print(\"Testing samples:\", len(X_text_test))"
   ]
  },
  {
   "cell_type": "code",
   "execution_count": null,
   "metadata": {
    "colab": {
     "base_uri": "https://localhost:8080/"
    },
    "executionInfo": {
     "elapsed": 3139,
     "status": "ok",
     "timestamp": 1742880375381,
     "user": {
      "displayName": "Xin Yan",
      "userId": "08308894215731508440"
     },
     "user_tz": 240
    },
    "id": "kZMWYVa4UmTV",
    "outputId": "400f0eec-bf9b-4b84-8a98-3f6bb54e73c6"
   },
   "outputs": [
    {
     "name": "stdout",
     "output_type": "stream",
     "text": [
      "Vocabulary size: 12796\n",
      "Max title length: 33\n",
      "Shape of padded train sequences: (8000, 33)\n"
     ]
    }
   ],
   "source": [
    "from tensorflow.keras.preprocessing.text import Tokenizer\n",
    "from tensorflow.keras.preprocessing.sequence import pad_sequences\n",
    "\n",
    "tokenizer = Tokenizer()\n",
    "tokenizer.fit_on_texts(X_text_train)\n",
    "vocab_size = len(tokenizer.word_index) + 1\n",
    "print(\"Vocabulary size:\", vocab_size)\n",
    "\n",
    "X_seq_train = tokenizer.texts_to_sequences(X_text_train)\n",
    "X_seq_test  = tokenizer.texts_to_sequences(X_text_test)\n",
    "\n",
    "max_len = max(len(seq) for seq in X_seq_train)\n",
    "X_seq_train = pad_sequences(X_seq_train, maxlen=max_len, padding='post')\n",
    "X_seq_test  = pad_sequences(X_seq_test, maxlen=max_len, padding='post')\n",
    "print(\"Max title length:\", max_len)\n",
    "print(\"Shape of padded train sequences:\", X_seq_train.shape)"
   ]
  },
  {
   "cell_type": "code",
   "execution_count": null,
   "metadata": {
    "id": "4Rs8E1RRUmWR"
   },
   "outputs": [],
   "source": [
    "# !curl -I http://nlp.stanford.edu/data/glove.6B.zip"
   ]
  },
  {
   "cell_type": "code",
   "execution_count": null,
   "metadata": {
    "colab": {
     "base_uri": "https://localhost:8080/"
    },
    "executionInfo": {
     "elapsed": 7884,
     "status": "ok",
     "timestamp": 1742881045002,
     "user": {
      "displayName": "Xin Yan",
      "userId": "08308894215731508440"
     },
     "user_tz": 240
    },
    "id": "W-_0ApcuUmZF",
    "outputId": "e74dc756-0e83-4b16-d861-7e69ade884f0"
   },
   "outputs": [
    {
     "name": "stdout",
     "output_type": "stream",
     "text": [
      "Total GloVe vectors loaded: 400000\n"
     ]
    }
   ],
   "source": [
    "import numpy as np\n",
    "# Load GloVe 100d into memory\n",
    "embeddings_index = {}\n",
    "with open('/content/news_data/glove.6B.100d.txt', 'r', encoding='utf8') as f:\n",
    "    for line in f:\n",
    "        values = line.split()\n",
    "        word = values[0]\n",
    "        coeffs = np.array(values[1:], dtype='float32')\n",
    "        embeddings_index[word] = coeffs\n",
    "print(\"Total GloVe vectors loaded:\", len(embeddings_index))"
   ]
  },
  {
   "cell_type": "code",
   "execution_count": null,
   "metadata": {
    "id": "_aFmmBnoUmce"
   },
   "outputs": [],
   "source": [
    "\n",
    "embedding_dim = 100\n",
    "embedding_matrix = np.zeros((vocab_size, embedding_dim))\n",
    "for word, idx in tokenizer.word_index.items():\n",
    "    if idx >= vocab_size:\n",
    "        continue  \n",
    "    vector = embeddings_index.get(word)\n",
    "    if vector is not None:\n",
    "        embedding_matrix[idx] = vector"
   ]
  },
  {
   "cell_type": "markdown",
   "metadata": {
    "id": "u1BIc3Q5ZB1v"
   },
   "source": [
    "## 7. Build the Bi-LSTM Model"
   ]
  },
  {
   "cell_type": "code",
   "execution_count": null,
   "metadata": {
    "colab": {
     "base_uri": "https://localhost:8080/",
     "height": 737
    },
    "executionInfo": {
     "elapsed": 223,
     "status": "ok",
     "timestamp": 1742882913160,
     "user": {
      "displayName": "Xin Yan",
      "userId": "08308894215731508440"
     },
     "user_tz": 240
    },
    "id": "BVlLWEK4Y4RU",
    "outputId": "833e55a3-cd40-4ecd-d74b-d2e9ab0b502e"
   },
   "outputs": [
    {
     "data": {
      "text/html": [
       "<pre style=\"white-space:pre;overflow-x:auto;line-height:normal;font-family:Menlo,'DejaVu Sans Mono',consolas,'Courier New',monospace\"><span style=\"font-weight: bold\">Model: \"functional_15\"</span>\n",
       "</pre>\n"
      ],
      "text/plain": [
       "\u001b[1mModel: \"functional_15\"\u001b[0m\n"
      ]
     },
     "metadata": {},
     "output_type": "display_data"
    },
    {
     "data": {
      "text/html": [
       "<pre style=\"white-space:pre;overflow-x:auto;line-height:normal;font-family:Menlo,'DejaVu Sans Mono',consolas,'Courier New',monospace\">┏━━━━━━━━━━━━━━━━━━━━━━━━━━━┳━━━━━━━━━━━━━━━━━━━━━━━━┳━━━━━━━━━━━━━━━━┳━━━━━━━━━━━━━━━━━━━━━━━━┓\n",
       "┃<span style=\"font-weight: bold\"> Layer (type)              </span>┃<span style=\"font-weight: bold\"> Output Shape           </span>┃<span style=\"font-weight: bold\">        Param # </span>┃<span style=\"font-weight: bold\"> Connected to           </span>┃\n",
       "┡━━━━━━━━━━━━━━━━━━━━━━━━━━━╇━━━━━━━━━━━━━━━━━━━━━━━━╇━━━━━━━━━━━━━━━━╇━━━━━━━━━━━━━━━━━━━━━━━━┩\n",
       "│ title_input (<span style=\"color: #0087ff; text-decoration-color: #0087ff\">InputLayer</span>)  │ (<span style=\"color: #00d7ff; text-decoration-color: #00d7ff\">None</span>, <span style=\"color: #00af00; text-decoration-color: #00af00\">33</span>)             │              <span style=\"color: #00af00; text-decoration-color: #00af00\">0</span> │ -                      │\n",
       "├───────────────────────────┼────────────────────────┼────────────────┼────────────────────────┤\n",
       "│ embedding_16 (<span style=\"color: #0087ff; text-decoration-color: #0087ff\">Embedding</span>)  │ (<span style=\"color: #00d7ff; text-decoration-color: #00d7ff\">None</span>, <span style=\"color: #00af00; text-decoration-color: #00af00\">33</span>, <span style=\"color: #00af00; text-decoration-color: #00af00\">100</span>)        │      <span style=\"color: #00af00; text-decoration-color: #00af00\">1,279,600</span> │ title_input[<span style=\"color: #00af00; text-decoration-color: #00af00\">0</span>][<span style=\"color: #00af00; text-decoration-color: #00af00\">0</span>]      │\n",
       "├───────────────────────────┼────────────────────────┼────────────────┼────────────────────────┤\n",
       "│ bidirectional_29          │ (<span style=\"color: #00d7ff; text-decoration-color: #00d7ff\">None</span>, <span style=\"color: #00af00; text-decoration-color: #00af00\">33</span>, <span style=\"color: #00af00; text-decoration-color: #00af00\">128</span>)        │         <span style=\"color: #00af00; text-decoration-color: #00af00\">84,480</span> │ embedding_16[<span style=\"color: #00af00; text-decoration-color: #00af00\">0</span>][<span style=\"color: #00af00; text-decoration-color: #00af00\">0</span>]     │\n",
       "│ (<span style=\"color: #0087ff; text-decoration-color: #0087ff\">Bidirectional</span>)           │                        │                │                        │\n",
       "├───────────────────────────┼────────────────────────┼────────────────┼────────────────────────┤\n",
       "│ dropout_59 (<span style=\"color: #0087ff; text-decoration-color: #0087ff\">Dropout</span>)      │ (<span style=\"color: #00d7ff; text-decoration-color: #00d7ff\">None</span>, <span style=\"color: #00af00; text-decoration-color: #00af00\">33</span>, <span style=\"color: #00af00; text-decoration-color: #00af00\">128</span>)        │              <span style=\"color: #00af00; text-decoration-color: #00af00\">0</span> │ bidirectional_29[<span style=\"color: #00af00; text-decoration-color: #00af00\">0</span>][<span style=\"color: #00af00; text-decoration-color: #00af00\">0</span>] │\n",
       "├───────────────────────────┼────────────────────────┼────────────────┼────────────────────────┤\n",
       "│ bidirectional_30          │ (<span style=\"color: #00d7ff; text-decoration-color: #00d7ff\">None</span>, <span style=\"color: #00af00; text-decoration-color: #00af00\">128</span>)            │         <span style=\"color: #00af00; text-decoration-color: #00af00\">98,816</span> │ dropout_59[<span style=\"color: #00af00; text-decoration-color: #00af00\">0</span>][<span style=\"color: #00af00; text-decoration-color: #00af00\">0</span>]       │\n",
       "│ (<span style=\"color: #0087ff; text-decoration-color: #0087ff\">Bidirectional</span>)           │                        │                │                        │\n",
       "├───────────────────────────┼────────────────────────┼────────────────┼────────────────────────┤\n",
       "│ dropout_60 (<span style=\"color: #0087ff; text-decoration-color: #0087ff\">Dropout</span>)      │ (<span style=\"color: #00d7ff; text-decoration-color: #00d7ff\">None</span>, <span style=\"color: #00af00; text-decoration-color: #00af00\">128</span>)            │              <span style=\"color: #00af00; text-decoration-color: #00af00\">0</span> │ bidirectional_30[<span style=\"color: #00af00; text-decoration-color: #00af00\">0</span>][<span style=\"color: #00af00; text-decoration-color: #00af00\">0</span>] │\n",
       "├───────────────────────────┼────────────────────────┼────────────────┼────────────────────────┤\n",
       "│ sentiment_input           │ (<span style=\"color: #00d7ff; text-decoration-color: #00d7ff\">None</span>, <span style=\"color: #00af00; text-decoration-color: #00af00\">1</span>)              │              <span style=\"color: #00af00; text-decoration-color: #00af00\">0</span> │ -                      │\n",
       "│ (<span style=\"color: #0087ff; text-decoration-color: #0087ff\">InputLayer</span>)              │                        │                │                        │\n",
       "├───────────────────────────┼────────────────────────┼────────────────┼────────────────────────┤\n",
       "│ emotion_input             │ (<span style=\"color: #00d7ff; text-decoration-color: #00d7ff\">None</span>, <span style=\"color: #00af00; text-decoration-color: #00af00\">1</span>)              │              <span style=\"color: #00af00; text-decoration-color: #00af00\">0</span> │ -                      │\n",
       "│ (<span style=\"color: #0087ff; text-decoration-color: #0087ff\">InputLayer</span>)              │                        │                │                        │\n",
       "├───────────────────────────┼────────────────────────┼────────────────┼────────────────────────┤\n",
       "│ dense_75 (<span style=\"color: #0087ff; text-decoration-color: #0087ff\">Dense</span>)          │ (<span style=\"color: #00d7ff; text-decoration-color: #00d7ff\">None</span>, <span style=\"color: #00af00; text-decoration-color: #00af00\">32</span>)             │          <span style=\"color: #00af00; text-decoration-color: #00af00\">4,128</span> │ dropout_60[<span style=\"color: #00af00; text-decoration-color: #00af00\">0</span>][<span style=\"color: #00af00; text-decoration-color: #00af00\">0</span>]       │\n",
       "├───────────────────────────┼────────────────────────┼────────────────┼────────────────────────┤\n",
       "│ dense_76 (<span style=\"color: #0087ff; text-decoration-color: #0087ff\">Dense</span>)          │ (<span style=\"color: #00d7ff; text-decoration-color: #00d7ff\">None</span>, <span style=\"color: #00af00; text-decoration-color: #00af00\">8</span>)              │             <span style=\"color: #00af00; text-decoration-color: #00af00\">16</span> │ sentiment_input[<span style=\"color: #00af00; text-decoration-color: #00af00\">0</span>][<span style=\"color: #00af00; text-decoration-color: #00af00\">0</span>]  │\n",
       "├───────────────────────────┼────────────────────────┼────────────────┼────────────────────────┤\n",
       "│ dense_77 (<span style=\"color: #0087ff; text-decoration-color: #0087ff\">Dense</span>)          │ (<span style=\"color: #00d7ff; text-decoration-color: #00d7ff\">None</span>, <span style=\"color: #00af00; text-decoration-color: #00af00\">8</span>)              │             <span style=\"color: #00af00; text-decoration-color: #00af00\">16</span> │ emotion_input[<span style=\"color: #00af00; text-decoration-color: #00af00\">0</span>][<span style=\"color: #00af00; text-decoration-color: #00af00\">0</span>]    │\n",
       "├───────────────────────────┼────────────────────────┼────────────────┼────────────────────────┤\n",
       "│ concatenate_15            │ (<span style=\"color: #00d7ff; text-decoration-color: #00d7ff\">None</span>, <span style=\"color: #00af00; text-decoration-color: #00af00\">48</span>)             │              <span style=\"color: #00af00; text-decoration-color: #00af00\">0</span> │ dense_75[<span style=\"color: #00af00; text-decoration-color: #00af00\">0</span>][<span style=\"color: #00af00; text-decoration-color: #00af00\">0</span>],        │\n",
       "│ (<span style=\"color: #0087ff; text-decoration-color: #0087ff\">Concatenate</span>)             │                        │                │ dense_76[<span style=\"color: #00af00; text-decoration-color: #00af00\">0</span>][<span style=\"color: #00af00; text-decoration-color: #00af00\">0</span>],        │\n",
       "│                           │                        │                │ dense_77[<span style=\"color: #00af00; text-decoration-color: #00af00\">0</span>][<span style=\"color: #00af00; text-decoration-color: #00af00\">0</span>]         │\n",
       "├───────────────────────────┼────────────────────────┼────────────────┼────────────────────────┤\n",
       "│ dropout_61 (<span style=\"color: #0087ff; text-decoration-color: #0087ff\">Dropout</span>)      │ (<span style=\"color: #00d7ff; text-decoration-color: #00d7ff\">None</span>, <span style=\"color: #00af00; text-decoration-color: #00af00\">48</span>)             │              <span style=\"color: #00af00; text-decoration-color: #00af00\">0</span> │ concatenate_15[<span style=\"color: #00af00; text-decoration-color: #00af00\">0</span>][<span style=\"color: #00af00; text-decoration-color: #00af00\">0</span>]   │\n",
       "├───────────────────────────┼────────────────────────┼────────────────┼────────────────────────┤\n",
       "│ dense_78 (<span style=\"color: #0087ff; text-decoration-color: #0087ff\">Dense</span>)          │ (<span style=\"color: #00d7ff; text-decoration-color: #00d7ff\">None</span>, <span style=\"color: #00af00; text-decoration-color: #00af00\">16</span>)             │            <span style=\"color: #00af00; text-decoration-color: #00af00\">784</span> │ dropout_61[<span style=\"color: #00af00; text-decoration-color: #00af00\">0</span>][<span style=\"color: #00af00; text-decoration-color: #00af00\">0</span>]       │\n",
       "├───────────────────────────┼────────────────────────┼────────────────┼────────────────────────┤\n",
       "│ dropout_62 (<span style=\"color: #0087ff; text-decoration-color: #0087ff\">Dropout</span>)      │ (<span style=\"color: #00d7ff; text-decoration-color: #00d7ff\">None</span>, <span style=\"color: #00af00; text-decoration-color: #00af00\">16</span>)             │              <span style=\"color: #00af00; text-decoration-color: #00af00\">0</span> │ dense_78[<span style=\"color: #00af00; text-decoration-color: #00af00\">0</span>][<span style=\"color: #00af00; text-decoration-color: #00af00\">0</span>]         │\n",
       "├───────────────────────────┼────────────────────────┼────────────────┼────────────────────────┤\n",
       "│ dense_79 (<span style=\"color: #0087ff; text-decoration-color: #0087ff\">Dense</span>)          │ (<span style=\"color: #00d7ff; text-decoration-color: #00d7ff\">None</span>, <span style=\"color: #00af00; text-decoration-color: #00af00\">1</span>)              │             <span style=\"color: #00af00; text-decoration-color: #00af00\">17</span> │ dropout_62[<span style=\"color: #00af00; text-decoration-color: #00af00\">0</span>][<span style=\"color: #00af00; text-decoration-color: #00af00\">0</span>]       │\n",
       "└───────────────────────────┴────────────────────────┴────────────────┴────────────────────────┘\n",
       "</pre>\n"
      ],
      "text/plain": [
       "┏━━━━━━━━━━━━━━━━━━━━━━━━━━━┳━━━━━━━━━━━━━━━━━━━━━━━━┳━━━━━━━━━━━━━━━━┳━━━━━━━━━━━━━━━━━━━━━━━━┓\n",
       "┃\u001b[1m \u001b[0m\u001b[1mLayer (type)             \u001b[0m\u001b[1m \u001b[0m┃\u001b[1m \u001b[0m\u001b[1mOutput Shape          \u001b[0m\u001b[1m \u001b[0m┃\u001b[1m \u001b[0m\u001b[1m       Param #\u001b[0m\u001b[1m \u001b[0m┃\u001b[1m \u001b[0m\u001b[1mConnected to          \u001b[0m\u001b[1m \u001b[0m┃\n",
       "┡━━━━━━━━━━━━━━━━━━━━━━━━━━━╇━━━━━━━━━━━━━━━━━━━━━━━━╇━━━━━━━━━━━━━━━━╇━━━━━━━━━━━━━━━━━━━━━━━━┩\n",
       "│ title_input (\u001b[38;5;33mInputLayer\u001b[0m)  │ (\u001b[38;5;45mNone\u001b[0m, \u001b[38;5;34m33\u001b[0m)             │              \u001b[38;5;34m0\u001b[0m │ -                      │\n",
       "├───────────────────────────┼────────────────────────┼────────────────┼────────────────────────┤\n",
       "│ embedding_16 (\u001b[38;5;33mEmbedding\u001b[0m)  │ (\u001b[38;5;45mNone\u001b[0m, \u001b[38;5;34m33\u001b[0m, \u001b[38;5;34m100\u001b[0m)        │      \u001b[38;5;34m1,279,600\u001b[0m │ title_input[\u001b[38;5;34m0\u001b[0m][\u001b[38;5;34m0\u001b[0m]      │\n",
       "├───────────────────────────┼────────────────────────┼────────────────┼────────────────────────┤\n",
       "│ bidirectional_29          │ (\u001b[38;5;45mNone\u001b[0m, \u001b[38;5;34m33\u001b[0m, \u001b[38;5;34m128\u001b[0m)        │         \u001b[38;5;34m84,480\u001b[0m │ embedding_16[\u001b[38;5;34m0\u001b[0m][\u001b[38;5;34m0\u001b[0m]     │\n",
       "│ (\u001b[38;5;33mBidirectional\u001b[0m)           │                        │                │                        │\n",
       "├───────────────────────────┼────────────────────────┼────────────────┼────────────────────────┤\n",
       "│ dropout_59 (\u001b[38;5;33mDropout\u001b[0m)      │ (\u001b[38;5;45mNone\u001b[0m, \u001b[38;5;34m33\u001b[0m, \u001b[38;5;34m128\u001b[0m)        │              \u001b[38;5;34m0\u001b[0m │ bidirectional_29[\u001b[38;5;34m0\u001b[0m][\u001b[38;5;34m0\u001b[0m] │\n",
       "├───────────────────────────┼────────────────────────┼────────────────┼────────────────────────┤\n",
       "│ bidirectional_30          │ (\u001b[38;5;45mNone\u001b[0m, \u001b[38;5;34m128\u001b[0m)            │         \u001b[38;5;34m98,816\u001b[0m │ dropout_59[\u001b[38;5;34m0\u001b[0m][\u001b[38;5;34m0\u001b[0m]       │\n",
       "│ (\u001b[38;5;33mBidirectional\u001b[0m)           │                        │                │                        │\n",
       "├───────────────────────────┼────────────────────────┼────────────────┼────────────────────────┤\n",
       "│ dropout_60 (\u001b[38;5;33mDropout\u001b[0m)      │ (\u001b[38;5;45mNone\u001b[0m, \u001b[38;5;34m128\u001b[0m)            │              \u001b[38;5;34m0\u001b[0m │ bidirectional_30[\u001b[38;5;34m0\u001b[0m][\u001b[38;5;34m0\u001b[0m] │\n",
       "├───────────────────────────┼────────────────────────┼────────────────┼────────────────────────┤\n",
       "│ sentiment_input           │ (\u001b[38;5;45mNone\u001b[0m, \u001b[38;5;34m1\u001b[0m)              │              \u001b[38;5;34m0\u001b[0m │ -                      │\n",
       "│ (\u001b[38;5;33mInputLayer\u001b[0m)              │                        │                │                        │\n",
       "├───────────────────────────┼────────────────────────┼────────────────┼────────────────────────┤\n",
       "│ emotion_input             │ (\u001b[38;5;45mNone\u001b[0m, \u001b[38;5;34m1\u001b[0m)              │              \u001b[38;5;34m0\u001b[0m │ -                      │\n",
       "│ (\u001b[38;5;33mInputLayer\u001b[0m)              │                        │                │                        │\n",
       "├───────────────────────────┼────────────────────────┼────────────────┼────────────────────────┤\n",
       "│ dense_75 (\u001b[38;5;33mDense\u001b[0m)          │ (\u001b[38;5;45mNone\u001b[0m, \u001b[38;5;34m32\u001b[0m)             │          \u001b[38;5;34m4,128\u001b[0m │ dropout_60[\u001b[38;5;34m0\u001b[0m][\u001b[38;5;34m0\u001b[0m]       │\n",
       "├───────────────────────────┼────────────────────────┼────────────────┼────────────────────────┤\n",
       "│ dense_76 (\u001b[38;5;33mDense\u001b[0m)          │ (\u001b[38;5;45mNone\u001b[0m, \u001b[38;5;34m8\u001b[0m)              │             \u001b[38;5;34m16\u001b[0m │ sentiment_input[\u001b[38;5;34m0\u001b[0m][\u001b[38;5;34m0\u001b[0m]  │\n",
       "├───────────────────────────┼────────────────────────┼────────────────┼────────────────────────┤\n",
       "│ dense_77 (\u001b[38;5;33mDense\u001b[0m)          │ (\u001b[38;5;45mNone\u001b[0m, \u001b[38;5;34m8\u001b[0m)              │             \u001b[38;5;34m16\u001b[0m │ emotion_input[\u001b[38;5;34m0\u001b[0m][\u001b[38;5;34m0\u001b[0m]    │\n",
       "├───────────────────────────┼────────────────────────┼────────────────┼────────────────────────┤\n",
       "│ concatenate_15            │ (\u001b[38;5;45mNone\u001b[0m, \u001b[38;5;34m48\u001b[0m)             │              \u001b[38;5;34m0\u001b[0m │ dense_75[\u001b[38;5;34m0\u001b[0m][\u001b[38;5;34m0\u001b[0m],        │\n",
       "│ (\u001b[38;5;33mConcatenate\u001b[0m)             │                        │                │ dense_76[\u001b[38;5;34m0\u001b[0m][\u001b[38;5;34m0\u001b[0m],        │\n",
       "│                           │                        │                │ dense_77[\u001b[38;5;34m0\u001b[0m][\u001b[38;5;34m0\u001b[0m]         │\n",
       "├───────────────────────────┼────────────────────────┼────────────────┼────────────────────────┤\n",
       "│ dropout_61 (\u001b[38;5;33mDropout\u001b[0m)      │ (\u001b[38;5;45mNone\u001b[0m, \u001b[38;5;34m48\u001b[0m)             │              \u001b[38;5;34m0\u001b[0m │ concatenate_15[\u001b[38;5;34m0\u001b[0m][\u001b[38;5;34m0\u001b[0m]   │\n",
       "├───────────────────────────┼────────────────────────┼────────────────┼────────────────────────┤\n",
       "│ dense_78 (\u001b[38;5;33mDense\u001b[0m)          │ (\u001b[38;5;45mNone\u001b[0m, \u001b[38;5;34m16\u001b[0m)             │            \u001b[38;5;34m784\u001b[0m │ dropout_61[\u001b[38;5;34m0\u001b[0m][\u001b[38;5;34m0\u001b[0m]       │\n",
       "├───────────────────────────┼────────────────────────┼────────────────┼────────────────────────┤\n",
       "│ dropout_62 (\u001b[38;5;33mDropout\u001b[0m)      │ (\u001b[38;5;45mNone\u001b[0m, \u001b[38;5;34m16\u001b[0m)             │              \u001b[38;5;34m0\u001b[0m │ dense_78[\u001b[38;5;34m0\u001b[0m][\u001b[38;5;34m0\u001b[0m]         │\n",
       "├───────────────────────────┼────────────────────────┼────────────────┼────────────────────────┤\n",
       "│ dense_79 (\u001b[38;5;33mDense\u001b[0m)          │ (\u001b[38;5;45mNone\u001b[0m, \u001b[38;5;34m1\u001b[0m)              │             \u001b[38;5;34m17\u001b[0m │ dropout_62[\u001b[38;5;34m0\u001b[0m][\u001b[38;5;34m0\u001b[0m]       │\n",
       "└───────────────────────────┴────────────────────────┴────────────────┴────────────────────────┘\n"
      ]
     },
     "metadata": {},
     "output_type": "display_data"
    },
    {
     "data": {
      "text/html": [
       "<pre style=\"white-space:pre;overflow-x:auto;line-height:normal;font-family:Menlo,'DejaVu Sans Mono',consolas,'Courier New',monospace\"><span style=\"font-weight: bold\"> Total params: </span><span style=\"color: #00af00; text-decoration-color: #00af00\">1,467,857</span> (5.60 MB)\n",
       "</pre>\n"
      ],
      "text/plain": [
       "\u001b[1m Total params: \u001b[0m\u001b[38;5;34m1,467,857\u001b[0m (5.60 MB)\n"
      ]
     },
     "metadata": {},
     "output_type": "display_data"
    },
    {
     "data": {
      "text/html": [
       "<pre style=\"white-space:pre;overflow-x:auto;line-height:normal;font-family:Menlo,'DejaVu Sans Mono',consolas,'Courier New',monospace\"><span style=\"font-weight: bold\"> Trainable params: </span><span style=\"color: #00af00; text-decoration-color: #00af00\">188,257</span> (735.38 KB)\n",
       "</pre>\n"
      ],
      "text/plain": [
       "\u001b[1m Trainable params: \u001b[0m\u001b[38;5;34m188,257\u001b[0m (735.38 KB)\n"
      ]
     },
     "metadata": {},
     "output_type": "display_data"
    },
    {
     "data": {
      "text/html": [
       "<pre style=\"white-space:pre;overflow-x:auto;line-height:normal;font-family:Menlo,'DejaVu Sans Mono',consolas,'Courier New',monospace\"><span style=\"font-weight: bold\"> Non-trainable params: </span><span style=\"color: #00af00; text-decoration-color: #00af00\">1,279,600</span> (4.88 MB)\n",
       "</pre>\n"
      ],
      "text/plain": [
       "\u001b[1m Non-trainable params: \u001b[0m\u001b[38;5;34m1,279,600\u001b[0m (4.88 MB)\n"
      ]
     },
     "metadata": {},
     "output_type": "display_data"
    }
   ],
   "source": [
    "import tensorflow as tf\n",
    "from tensorflow.keras.models import Model\n",
    "from tensorflow.keras.layers import Input, Embedding, LSTM, Bidirectional, Dense, Dropout, Concatenate\n",
    "from tensorflow.keras.regularizers import l2\n",
    "\n",
    "from tensorflow.keras.callbacks import EarlyStopping\n",
    "\n",
    "# define model\n",
    "title_input = Input(shape=(max_len,), name='title_input')\n",
    "embedding_layer = Embedding(input_dim=vocab_size, output_dim=embedding_dim, weights=[embedding_matrix],\n",
    "                            input_length=max_len, trainable=False)(title_input)\n",
    "x = Bidirectional(LSTM(64, return_sequences=True, kernel_regularizer=l2(0.005)))(embedding_layer)\n",
    "x = Dropout(0.6)(x)\n",
    "x = Bidirectional(LSTM(64, return_sequences=False, kernel_regularizer=l2(0.005)))(x)\n",
    "x = Dropout(0.6)(x)\n",
    "text_repr = Dense(32, activation='relu', kernel_regularizer=l2(0.005))(x)\n",
    "\n",
    "sent_input = Input(shape=(1,), name='sentiment_input')\n",
    "sent_dense = Dense(8, activation='relu', kernel_regularizer=l2(0.005))(sent_input)\n",
    "emot_input = Input(shape=(1,), name='emotion_input')\n",
    "emot_dense = Dense(8, activation='relu', kernel_regularizer=l2(0.005))(emot_input)\n",
    "\n",
    "combined = Concatenate()([text_repr, sent_dense, emot_dense])\n",
    "combined = Dropout(0.6)(combined)\n",
    "combined = Dense(16, activation='relu', kernel_regularizer=l2(0.005))(combined)\n",
    "combined = Dropout(0.6)(combined)\n",
    "output = Dense(1, activation='sigmoid')(combined)\n",
    "\n",
    "model = Model(inputs=[title_input, sent_input, emot_input], outputs=output)\n",
    "model.compile(optimizer=tf.keras.optimizers.Adam(learning_rate=0.0005),\n",
    "              loss='binary_crossentropy',\n",
    "              metrics=['accuracy', tf.keras.metrics.AUC(name='auc')])\n",
    "model.summary()"
   ]
  },
  {
   "cell_type": "markdown",
   "metadata": {
    "id": "D2mwq0GcZJ6I"
   },
   "source": [
    "## 8. Train the Model"
   ]
  },
  {
   "cell_type": "code",
   "execution_count": null,
   "metadata": {
    "id": "FSjizAugY4Us"
   },
   "outputs": [],
   "source": [
    "# Prepare inputs for training and testing\n",
    "X_train_inputs = {\n",
    "    'title_input': X_seq_train,\n",
    "    'sentiment_input': X_sent_train,\n",
    "    'emotion_input': X_emot_train\n",
    "}\n",
    "X_test_inputs = {\n",
    "    'title_input': X_seq_test,\n",
    "    'sentiment_input': X_sent_test,\n",
    "    'emotion_input': X_emot_test\n",
    "}"
   ]
  },
  {
   "cell_type": "code",
   "execution_count": null,
   "metadata": {
    "id": "Spd0yfhH4idH"
   },
   "outputs": [],
   "source": [
    "from sklearn.preprocessing import MinMaxScaler\n",
    "scaler = MinMaxScaler()\n",
    "X_sent_train = scaler.fit_transform(X_sent_train.reshape(-1, 1))\n",
    "X_sent_test = scaler.transform(X_sent_test.reshape(-1, 1))\n",
    "X_emot_train = scaler.fit_transform(X_emot_train.reshape(-1, 1))\n",
    "X_emot_test = scaler.transform(X_emot_test.reshape(-1, 1))"
   ]
  },
  {
   "cell_type": "code",
   "execution_count": null,
   "metadata": {
    "colab": {
     "base_uri": "https://localhost:8080/"
    },
    "executionInfo": {
     "elapsed": 47,
     "status": "ok",
     "timestamp": 1742882365976,
     "user": {
      "displayName": "Xin Yan",
      "userId": "08308894215731508440"
     },
     "user_tz": 240
    },
    "id": "jVeImvjU4lmj",
    "outputId": "6c9d12d2-3e31-4d4b-ba71-4c7f457a762e"
   },
   "outputs": [
    {
     "name": "stdout",
     "output_type": "stream",
     "text": [
      "Train label distribution: [0.379875 0.620125]\n",
      "Test label distribution: [0.38 0.62]\n"
     ]
    }
   ],
   "source": [
    "import numpy as np\n",
    "from tensorflow.keras.callbacks import EarlyStopping, ReduceLROnPlateau\n",
    "print(\"Train label distribution:\", np.bincount(y_train) / len(y_train))\n",
    "print(\"Test label distribution:\", np.bincount(y_test) / len(y_test))"
   ]
  },
  {
   "cell_type": "code",
   "execution_count": null,
   "metadata": {
    "colab": {
     "base_uri": "https://localhost:8080/"
    },
    "executionInfo": {
     "elapsed": 35302,
     "status": "ok",
     "timestamp": 1742882960010,
     "user": {
      "displayName": "Xin Yan",
      "userId": "08308894215731508440"
     },
     "user_tz": 240
    },
    "id": "4qJSLlIa4lpy",
    "outputId": "dfabf41a-0cbd-48e4-b48b-27f4de2001fe"
   },
   "outputs": [
    {
     "name": "stdout",
     "output_type": "stream",
     "text": [
      "Epoch 1/20\n",
      "\u001b[1m125/125\u001b[0m \u001b[32m━━━━━━━━━━━━━━━━━━━━\u001b[0m\u001b[37m\u001b[0m \u001b[1m7s\u001b[0m 21ms/step - accuracy: 0.5365 - auc: 0.5058 - loss: 3.3908 - val_accuracy: 0.6200 - val_auc: 0.6519 - val_loss: 1.6566 - learning_rate: 5.0000e-04\n",
      "Epoch 2/20\n",
      "\u001b[1m125/125\u001b[0m \u001b[32m━━━━━━━━━━━━━━━━━━━━\u001b[0m\u001b[37m\u001b[0m \u001b[1m2s\u001b[0m 14ms/step - accuracy: 0.6082 - auc: 0.5872 - loss: 1.4250 - val_accuracy: 0.6615 - val_auc: 0.7019 - val_loss: 0.9507 - learning_rate: 5.0000e-04\n",
      "Epoch 3/20\n",
      "\u001b[1m125/125\u001b[0m \u001b[32m━━━━━━━━━━━━━━━━━━━━\u001b[0m\u001b[37m\u001b[0m \u001b[1m2s\u001b[0m 15ms/step - accuracy: 0.6677 - auc: 0.6933 - loss: 0.8913 - val_accuracy: 0.6730 - val_auc: 0.7183 - val_loss: 0.7651 - learning_rate: 5.0000e-04\n",
      "Epoch 4/20\n",
      "\u001b[1m125/125\u001b[0m \u001b[32m━━━━━━━━━━━━━━━━━━━━\u001b[0m\u001b[37m\u001b[0m \u001b[1m2s\u001b[0m 15ms/step - accuracy: 0.6856 - auc: 0.6933 - loss: 0.7494 - val_accuracy: 0.6940 - val_auc: 0.7237 - val_loss: 0.6959 - learning_rate: 5.0000e-04\n",
      "Epoch 5/20\n",
      "\u001b[1m125/125\u001b[0m \u001b[32m━━━━━━━━━━━━━━━━━━━━\u001b[0m\u001b[37m\u001b[0m \u001b[1m2s\u001b[0m 15ms/step - accuracy: 0.7000 - auc: 0.7195 - loss: 0.6869 - val_accuracy: 0.6970 - val_auc: 0.7290 - val_loss: 0.6563 - learning_rate: 5.0000e-04\n",
      "Epoch 6/20\n",
      "\u001b[1m125/125\u001b[0m \u001b[32m━━━━━━━━━━━━━━━━━━━━\u001b[0m\u001b[37m\u001b[0m \u001b[1m2s\u001b[0m 15ms/step - accuracy: 0.7040 - auc: 0.7288 - loss: 0.6605 - val_accuracy: 0.6930 - val_auc: 0.7306 - val_loss: 0.6482 - learning_rate: 5.0000e-04\n",
      "Epoch 7/20\n",
      "\u001b[1m125/125\u001b[0m \u001b[32m━━━━━━━━━━━━━━━━━━━━\u001b[0m\u001b[37m\u001b[0m \u001b[1m2s\u001b[0m 15ms/step - accuracy: 0.6999 - auc: 0.7172 - loss: 0.6527 - val_accuracy: 0.6920 - val_auc: 0.7285 - val_loss: 0.6349 - learning_rate: 5.0000e-04\n",
      "Epoch 8/20\n",
      "\u001b[1m125/125\u001b[0m \u001b[32m━━━━━━━━━━━━━━━━━━━━\u001b[0m\u001b[37m\u001b[0m \u001b[1m2s\u001b[0m 14ms/step - accuracy: 0.7028 - auc: 0.7272 - loss: 0.6362 - val_accuracy: 0.6785 - val_auc: 0.7333 - val_loss: 0.6361 - learning_rate: 5.0000e-04\n",
      "Epoch 9/20\n",
      "\u001b[1m125/125\u001b[0m \u001b[32m━━━━━━━━━━━━━━━━━━━━\u001b[0m\u001b[37m\u001b[0m \u001b[1m2s\u001b[0m 15ms/step - accuracy: 0.7059 - auc: 0.7403 - loss: 0.6210 - val_accuracy: 0.6915 - val_auc: 0.7337 - val_loss: 0.6194 - learning_rate: 5.0000e-04\n",
      "Epoch 10/20\n",
      "\u001b[1m125/125\u001b[0m \u001b[32m━━━━━━━━━━━━━━━━━━━━\u001b[0m\u001b[37m\u001b[0m \u001b[1m2s\u001b[0m 15ms/step - accuracy: 0.7162 - auc: 0.7512 - loss: 0.6038 - val_accuracy: 0.6955 - val_auc: 0.7348 - val_loss: 0.6189 - learning_rate: 5.0000e-04\n",
      "Epoch 11/20\n",
      "\u001b[1m125/125\u001b[0m \u001b[32m━━━━━━━━━━━━━━━━━━━━\u001b[0m\u001b[37m\u001b[0m \u001b[1m2s\u001b[0m 15ms/step - accuracy: 0.7086 - auc: 0.7482 - loss: 0.6109 - val_accuracy: 0.6970 - val_auc: 0.7443 - val_loss: 0.6230 - learning_rate: 5.0000e-04\n",
      "Epoch 12/20\n",
      "\u001b[1m125/125\u001b[0m \u001b[32m━━━━━━━━━━━━━━━━━━━━\u001b[0m\u001b[37m\u001b[0m \u001b[1m2s\u001b[0m 15ms/step - accuracy: 0.7103 - auc: 0.7493 - loss: 0.6043 - val_accuracy: 0.7045 - val_auc: 0.7377 - val_loss: 0.6102 - learning_rate: 5.0000e-04\n",
      "Epoch 13/20\n",
      "\u001b[1m125/125\u001b[0m \u001b[32m━━━━━━━━━━━━━━━━━━━━\u001b[0m\u001b[37m\u001b[0m \u001b[1m2s\u001b[0m 15ms/step - accuracy: 0.7258 - auc: 0.7540 - loss: 0.6022 - val_accuracy: 0.6995 - val_auc: 0.7444 - val_loss: 0.6166 - learning_rate: 5.0000e-04\n",
      "Epoch 14/20\n",
      "\u001b[1m125/125\u001b[0m \u001b[32m━━━━━━━━━━━━━━━━━━━━\u001b[0m\u001b[37m\u001b[0m \u001b[1m2s\u001b[0m 14ms/step - accuracy: 0.7146 - auc: 0.7506 - loss: 0.6022 - val_accuracy: 0.6980 - val_auc: 0.7437 - val_loss: 0.6006 - learning_rate: 5.0000e-04\n",
      "Epoch 15/20\n",
      "\u001b[1m125/125\u001b[0m \u001b[32m━━━━━━━━━━━━━━━━━━━━\u001b[0m\u001b[37m\u001b[0m \u001b[1m2s\u001b[0m 15ms/step - accuracy: 0.7172 - auc: 0.7586 - loss: 0.5971 - val_accuracy: 0.6930 - val_auc: 0.7421 - val_loss: 0.6164 - learning_rate: 5.0000e-04\n",
      "Epoch 16/20\n",
      "\u001b[1m125/125\u001b[0m \u001b[32m━━━━━━━━━━━━━━━━━━━━\u001b[0m\u001b[37m\u001b[0m \u001b[1m2s\u001b[0m 14ms/step - accuracy: 0.7204 - auc: 0.7572 - loss: 0.5938 - val_accuracy: 0.7085 - val_auc: 0.7479 - val_loss: 0.6050 - learning_rate: 5.0000e-04\n"
     ]
    }
   ],
   "source": [
    "early_stopping = EarlyStopping(monitor='val_loss', patience=2, restore_best_weights=True)\n",
    "reduce_lr = ReduceLROnPlateau(monitor='val_loss', factor=0.5, patience=2, min_lr=0.00001)\n",
    "\n",
    "# Train\n",
    "history = model.fit(X_train_inputs, y_train,\n",
    "                    validation_data=(X_test_inputs, y_test),\n",
    "                    epochs=20,\n",
    "                    batch_size=64,\n",
    "                    callbacks=[early_stopping, reduce_lr])"
   ]
  },
  {
   "cell_type": "markdown",
   "metadata": {
    "id": "MVJSAZZTZlhV"
   },
   "source": [
    "## 9. Evaluate the Model"
   ]
  },
  {
   "cell_type": "code",
   "execution_count": null,
   "metadata": {
    "colab": {
     "base_uri": "https://localhost:8080/"
    },
    "executionInfo": {
     "elapsed": 1617,
     "status": "ok",
     "timestamp": 1742882965957,
     "user": {
      "displayName": "Xin Yan",
      "userId": "08308894215731508440"
     },
     "user_tz": 240
    },
    "id": "tdyBgP1NZWUX",
    "outputId": "034847ad-0511-44f4-d385-c46bc47e9d82"
   },
   "outputs": [
    {
     "name": "stdout",
     "output_type": "stream",
     "text": [
      "Test Accuracy: 0.6980\n",
      "Test AUC: 0.7437\n",
      "\u001b[1m63/63\u001b[0m \u001b[32m━━━━━━━━━━━━━━━━━━━━\u001b[0m\u001b[37m\u001b[0m \u001b[1m1s\u001b[0m 10ms/step\n",
      "Manual Accuracy: 0.6980\n",
      "Manual AUC: 0.7437\n"
     ]
    }
   ],
   "source": [
    "# Evaluate on test set\n",
    "loss, accuracy, auc = model.evaluate(X_test_inputs, y_test, verbose=0)\n",
    "print(f\"Test Accuracy: {accuracy:.4f}\")\n",
    "print(f\"Test AUC: {auc:.4f}\")\n",
    "\n",
    "# compute AUC\n",
    "y_pred_prob = model.predict(X_test_inputs)\n",
    "from sklearn.metrics import roc_auc_score, accuracy_score\n",
    "auc_manual = roc_auc_score(y_test, y_pred_prob)\n",
    "acc_manual = accuracy_score(y_test, (y_pred_prob >= 0.5).astype(int))\n",
    "print(f\"Manual Accuracy: {acc_manual:.4f}\")\n",
    "print(f\"Manual AUC: {auc_manual:.4f}\")\n"
   ]
  },
  {
   "cell_type": "code",
   "execution_count": null,
   "metadata": {
    "colab": {
     "base_uri": "https://localhost:8080/",
     "height": 843
    },
    "executionInfo": {
     "elapsed": 235,
     "status": "ok",
     "timestamp": 1742882968681,
     "user": {
      "displayName": "Xin Yan",
      "userId": "08308894215731508440"
     },
     "user_tz": 240
    },
    "id": "1PPMzuPGcN1P",
    "outputId": "e0a00499-9c4d-4252-dda1-928635c0c6af"
   },
   "outputs": [
    {
     "data": {
      "image/png": "[encoded data removed]",
      "text/plain": [
       "<Figure size 640x480 with 1 Axes>"
      ]
     },
     "metadata": {},
     "output_type": "display_data"
    },
    {
     "data": {
      "image/png": "[encoded data removed]",
      "text/plain": [
       "<Figure size 640x480 with 1 Axes>"
      ]
     },
     "metadata": {},
     "output_type": "display_data"
    }
   ],
   "source": [
    "import matplotlib.pyplot as plt\n",
    "plt.plot(history.history['loss'], label='train_loss')\n",
    "plt.plot(history.history['val_loss'], label='val_loss')\n",
    "plt.legend()\n",
    "plt.show()\n",
    "\n",
    "plt.plot(history.history['auc'], label='train_auc')\n",
    "plt.plot(history.history['val_auc'], label='val_auc')\n",
    "plt.legend()\n",
    "plt.show()"
   ]
  },
  {
   "cell_type": "code",
   "execution_count": null,
   "metadata": {
    "colab": {
     "base_uri": "https://localhost:8080/"
    },
    "executionInfo": {
     "elapsed": 43,
     "status": "ok",
     "timestamp": 1742883083677,
     "user": {
      "displayName": "Xin Yan",
      "userId": "08308894215731508440"
     },
     "user_tz": 240
    },
    "id": "WPiZRYOg7UjY",
    "outputId": "5820b2d6-558b-4f74-c97c-4ab8835bc67d"
   },
   "outputs": [
    {
     "name": "stdout",
     "output_type": "stream",
     "text": [
      "Training loss: [2.7158656120300293, 1.2387604713439941, 0.8432790040969849, 0.7357571125030518, 0.6824769377708435, 0.6562443375587463, 0.6458036303520203, 0.6331867575645447, 0.619497537612915, 0.6102486252784729, 0.6117549538612366, 0.6068024635314941, 0.6041766405105591, 0.6004887819290161, 0.5926637053489685, 0.5875850319862366]\n",
      "Validation loss: [1.6566160917282104, 0.9507350325584412, 0.7651288509368896, 0.6958505511283875, 0.656277596950531, 0.648239016532898, 0.634865939617157, 0.6360563635826111, 0.619369387626648, 0.6189076900482178, 0.6229953765869141, 0.6101675033569336, 0.616587221622467, 0.6006053686141968, 0.6163960695266724, 0.6050150394439697]\n",
      "Training accuracy: [0.5648750066757202, 0.6211249828338623, 0.6746249794960022, 0.6863750219345093, 0.6980000138282776, 0.7052500247955322, 0.7007499933242798, 0.703249990940094, 0.7101250290870667, 0.7106249928474426, 0.7096250057220459, 0.7105000019073486, 0.7228749990463257, 0.7206249833106995, 0.718375027179718, 0.7228749990463257]\n",
      "Validation accuracy: [0.6200000047683716, 0.6614999771118164, 0.6729999780654907, 0.6940000057220459, 0.6970000267028809, 0.6930000185966492, 0.6919999718666077, 0.6784999966621399, 0.6915000081062317, 0.6955000162124634, 0.6970000267028809, 0.7045000195503235, 0.6995000243186951, 0.6980000138282776, 0.6930000185966492, 0.7085000276565552]\n",
      "Training AUC: [0.5136603116989136, 0.6224340796470642, 0.6949746608734131, 0.7020914554595947, 0.718701183795929, 0.7278026342391968, 0.7238180041313171, 0.7286258339881897, 0.7433906197547913, 0.7431809306144714, 0.7460108399391174, 0.7457990050315857, 0.7498841285705566, 0.7510975003242493, 0.7597333192825317, 0.7600885629653931]\n",
      "Validation AUC: [0.6518558859825134, 0.7019078731536865, 0.7183493971824646, 0.7236545085906982, 0.7289601564407349, 0.730614423751831, 0.7284502387046814, 0.7332645058631897, 0.7337261438369751, 0.7347787618637085, 0.7442805767059326, 0.7376952171325684, 0.7444100379943848, 0.7437499761581421, 0.7421079277992249, 0.7478512525558472]\n"
     ]
    }
   ],
   "source": [
    "print(\"Training loss:\", history.history['loss'])\n",
    "print(\"Validation loss:\", history.history['val_loss'])\n",
    "print(\"Training accuracy:\", history.history['accuracy'])\n",
    "print(\"Validation accuracy:\", history.history['val_accuracy'])\n",
    "print(\"Training AUC:\", history.history['auc'])\n",
    "print(\"Validation AUC:\", history.history['val_auc'])"
   ]
  },
  {
   "cell_type": "code",
   "execution_count": null,
   "metadata": {
    "colab": {
     "base_uri": "https://localhost:8080/",
     "height": 1000
    },
    "executionInfo": {
     "elapsed": 499,
     "status": "ok",
     "timestamp": 1742883096701,
     "user": {
      "displayName": "Xin Yan",
      "userId": "08308894215731508440"
     },
     "user_tz": 240
    },
    "id": "UlrpZv-k7UnB",
    "outputId": "98ebb549-c43e-4c19-896a-3860dea9d48f"
   },
   "outputs": [
    {
     "data": {
      "image/png": "[encoded data removed]",
      "text/plain": [
       "<Figure size 640x480 with 1 Axes>"
      ]
     },
     "metadata": {},
     "output_type": "display_data"
    },
    {
     "data": {
      "image/png": "[encoded data removed]",
      "text/plain": [
       "<Figure size 640x480 with 1 Axes>"
      ]
     },
     "metadata": {},
     "output_type": "display_data"
    },
    {
     "data": {
      "image/png": "[encoded data removed]",
      "text/plain": [
       "<Figure size 640x480 with 1 Axes>"
      ]
     },
     "metadata": {},
     "output_type": "display_data"
    }
   ],
   "source": [
    "plt.plot(history.history['loss'], label='Training Loss')\n",
    "plt.plot(history.history['val_loss'], label='Validation Loss')\n",
    "plt.title('Loss Curve')\n",
    "plt.xlabel('Epoch')\n",
    "plt.ylabel('Loss')\n",
    "plt.legend()\n",
    "plt.show()\n",
    "\n",
    "plt.plot(history.history['accuracy'], label='Training Accuracy')\n",
    "plt.plot(history.history['val_accuracy'], label='Validation Accuracy')\n",
    "plt.title('Accuracy Curve')\n",
    "plt.xlabel('Epoch')\n",
    "plt.ylabel('Accuracy')\n",
    "plt.legend()\n",
    "plt.show()\n",
    "\n",
    "plt.plot(history.history['auc'], label='Training AUC')\n",
    "plt.plot(history.history['val_auc'], label='Validation AUC')\n",
    "plt.title('AUC Curve')\n",
    "plt.xlabel('Epoch')\n",
    "plt.ylabel('AUC')\n",
    "plt.legend()\n",
    "plt.show()"
   ]
  },
  {
   "cell_type": "code",
   "execution_count": null,
   "metadata": {
    "colab": {
     "base_uri": "https://localhost:8080/"
    },
    "executionInfo": {
     "elapsed": 546,
     "status": "ok",
     "timestamp": 1742883423821,
     "user": {
      "displayName": "Xin Yan",
      "userId": "08308894215731508440"
     },
     "user_tz": 240
    },
    "id": "SEL5tbpY7Uw0",
    "outputId": "1656108a-3212-41e6-e3cb-7471739edac2"
   },
   "outputs": [
    {
     "name": "stderr",
     "output_type": "stream",
     "text": [
      "WARNING:absl:You are saving your model as an HDF5 file via `model.save()` or `keras.saving.save_model(model)`. This file format is considered legacy. We recommend using instead the native Keras format, e.g. `model.save('my_model.keras')` or `keras.saving.save_model(model, 'my_model.keras')`. \n"
     ]
    },
    {
     "name": "stdout",
     "output_type": "stream",
     "text": [
      "Directory already exists: /content/gdrive/MyDrive/fakenews_data\n",
      "model saved to /content/gdrive/MyDrive/fakenews_data/com_model_10k.h5\n",
      "File exists: True\n",
      "model saved to /content/gdrive/MyDrive/fakenews_data/com1_model_10k.weights.h5\n",
      "File exists: True\n"
     ]
    }
   ],
   "source": [
    "# Define the target directory\n",
    "output_dir = '/content/gdrive/MyDrive/fakenews_data'\n",
    "\n",
    "if not os.path.exists(output_dir):\n",
    "    os.makedirs(output_dir)\n",
    "    print(f\"Created directory: {output_dir}\")\n",
    "else:\n",
    "    print(f\"Directory already exists: {output_dir}\")\n",
    "\n",
    "output_path = os.path.join(output_dir, 'com_model_10k.h5')\n",
    "model.save(output_path)\n",
    "\n",
    "weight_path = os.path.join(output_dir, 'com1_model_10k.weights.h5')\n",
    "model.save_weights(weight_path)\n",
    "\n",
    "print(f\"model saved to {output_path}\")\n",
    "\n",
    "print(\"File exists:\", os.path.exists(output_path))\n",
    "\n",
    "print(f\"model saved to {weight_path}\")\n",
    "\n",
    "print(\"File exists:\", os.path.exists(weight_path))"
   ]
  },
  {
   "cell_type": "code",
   "execution_count": null,
   "metadata": {
    "colab": {
     "base_uri": "https://localhost:8080/"
    },
    "executionInfo": {
     "elapsed": 2839,
     "status": "ok",
     "timestamp": 1742883455012,
     "user": {
      "displayName": "Xin Yan",
      "userId": "08308894215731508440"
     },
     "user_tz": 240
    },
    "id": "cwrukQcv8rKH",
    "outputId": "5d704e23-1009-4b2e-d981-3bc3b85c1eb5"
   },
   "outputs": [
    {
     "name": "stderr",
     "output_type": "stream",
     "text": [
      "WARNING:absl:Compiled the loaded model, but the compiled metrics have yet to be built. `model.compile_metrics` will be empty until you train or evaluate the model.\n"
     ]
    },
    {
     "name": "stdout",
     "output_type": "stream",
     "text": [
      "\u001b[1m63/63\u001b[0m \u001b[32m━━━━━━━━━━━━━━━━━━━━\u001b[0m\u001b[37m\u001b[0m \u001b[1m2s\u001b[0m 7ms/step - accuracy: 0.6832 - auc: 0.7209 - loss: 0.6188\n"
     ]
    },
    {
     "data": {
      "text/plain": [
       "[0.6006053686141968, 0.6980000138282776, 0.7437499761581421]"
      ]
     },
     "execution_count": 100,
     "metadata": {},
     "output_type": "execute_result"
    }
   ],
   "source": [
    "loaded_model = tf.keras.models.load_model(output_path)\n",
    "loaded_model.evaluate(X_test_inputs, y_test)"
   ]
  }
 ],
 "metadata": {
  "accelerator": "GPU",
  "colab": {
   "authorship_tag": "ABX9TyMVICrxJfOYQzm1xR4vpZXz",
   "gpuType": "T4",
   "machine_shape": "hm",
   "provenance": []
  },
  "kernelspec": {
   "display_name": "Python 3",
   "name": "python3"
  },
  "language_info": {
   "name": "python"
  }
 },
 "nbformat": 4,
 "nbformat_minor": 0
}
